{
 "cells": [
  {
   "cell_type": "markdown",
   "id": "55003be8",
   "metadata": {},
   "source": [
    "# Software Pricing\n",
    "## Data Cleaning\n",
    "**Paul Sims**"
   ]
  },
  {
   "cell_type": "markdown",
   "id": "d1792746",
   "metadata": {},
   "source": [
    "# Setup"
   ]
  },
  {
   "cell_type": "markdown",
   "id": "8c445e48",
   "metadata": {
    "tags": []
   },
   "source": [
    "## Imports"
   ]
  },
  {
   "cell_type": "code",
   "execution_count": 1,
   "id": "0cae6395",
   "metadata": {
    "execution": {
     "iopub.execute_input": "2021-07-25T20:54:03.558613Z",
     "iopub.status.busy": "2021-07-25T20:54:03.558275Z",
     "iopub.status.idle": "2021-07-25T20:54:05.478663Z",
     "shell.execute_reply": "2021-07-25T20:54:05.478297Z",
     "shell.execute_reply.started": "2021-07-25T20:54:03.558579Z"
    },
    "tags": []
   },
   "outputs": [],
   "source": [
    "# Plotting \n",
    "import matplotlib as mpl\n",
    "import matplotlib.pyplot as plt\n",
    "%matplotlib inline\n",
    "%config InlineBackend.figure_format = 'retina'\n",
    "\n",
    "import seaborn as sns\n",
    "sns.set_context(\"poster\")\n",
    "sns.set(rc={'figure.figsize': (16, 9.)})\n",
    "sns.set_style(\"whitegrid\")\n",
    "sns.set(font_scale = 1.5)\n",
    "\n",
    "# Data manipulation\n",
    "import numpy as np\n",
    "import pandas as pd\n",
    "pd.set_option(\"display.max_rows\", None)\n",
    "pd.set_option(\"display.max_columns\", None)\n",
    "\n",
    "# Utility\n",
    "import rootpath as rp"
   ]
  },
  {
   "cell_type": "markdown",
   "id": "8fb6faf1",
   "metadata": {},
   "source": [
    "## Read in data"
   ]
  },
  {
   "cell_type": "code",
   "execution_count": 2,
   "id": "b202e5bc",
   "metadata": {
    "execution": {
     "iopub.execute_input": "2021-07-25T20:54:05.479809Z",
     "iopub.status.busy": "2021-07-25T20:54:05.479706Z",
     "iopub.status.idle": "2021-07-25T20:54:05.481992Z",
     "shell.execute_reply": "2021-07-25T20:54:05.481703Z",
     "shell.execute_reply.started": "2021-07-25T20:54:05.479797Z"
    },
    "tags": []
   },
   "outputs": [],
   "source": [
    "# Set paths\n",
    "\n",
    "# Root\n",
    "rpath = rp.detect() + '/'\n",
    "\n",
    "# Data directory\n",
    "data_direct = 'data/'"
   ]
  },
  {
   "cell_type": "code",
   "execution_count": 3,
   "id": "5230fb24",
   "metadata": {
    "execution": {
     "iopub.execute_input": "2021-07-25T20:54:05.483773Z",
     "iopub.status.busy": "2021-07-25T20:54:05.483019Z",
     "iopub.status.idle": "2021-07-25T20:54:05.975263Z",
     "shell.execute_reply": "2021-07-25T20:54:05.974922Z",
     "shell.execute_reply.started": "2021-07-25T20:54:05.483755Z"
    },
    "tags": []
   },
   "outputs": [],
   "source": [
    "# Read in data\n",
    "\n",
    "df_test_res = pd.read_csv(rpath+data_direct+'raw/'+'test_results.csv',\n",
    "                          sep=\",\", index_col=0)\n",
    "df_users = pd.read_csv(rpath+data_direct+'raw/'+'user_table.csv', sep=\",\")"
   ]
  },
  {
   "cell_type": "markdown",
   "id": "a42b7b8d",
   "metadata": {},
   "source": [
    "# Data Cleaning"
   ]
  },
  {
   "cell_type": "markdown",
   "id": "cecfb001",
   "metadata": {
    "tags": []
   },
   "source": [
    "## Test results"
   ]
  },
  {
   "cell_type": "markdown",
   "id": "c7fbca0c",
   "metadata": {
    "tags": []
   },
   "source": [
    "### Data summaries"
   ]
  },
  {
   "cell_type": "code",
   "execution_count": 4,
   "id": "555a1c08",
   "metadata": {
    "execution": {
     "iopub.execute_input": "2021-07-25T20:54:05.976238Z",
     "iopub.status.busy": "2021-07-25T20:54:05.976147Z",
     "iopub.status.idle": "2021-07-25T20:54:05.980242Z",
     "shell.execute_reply": "2021-07-25T20:54:05.979543Z",
     "shell.execute_reply.started": "2021-07-25T20:54:05.976225Z"
    },
    "tags": []
   },
   "outputs": [
    {
     "data": {
      "text/plain": [
       "(316800, 8)"
      ]
     },
     "execution_count": 4,
     "metadata": {},
     "output_type": "execute_result"
    }
   ],
   "source": [
    "df_test_res.shape"
   ]
  },
  {
   "cell_type": "code",
   "execution_count": 5,
   "id": "ec0518bb",
   "metadata": {
    "execution": {
     "iopub.execute_input": "2021-07-25T20:54:05.980964Z",
     "iopub.status.busy": "2021-07-25T20:54:05.980858Z",
     "iopub.status.idle": "2021-07-25T20:54:06.049176Z",
     "shell.execute_reply": "2021-07-25T20:54:06.048076Z",
     "shell.execute_reply.started": "2021-07-25T20:54:05.980951Z"
    },
    "tags": []
   },
   "outputs": [
    {
     "name": "stdout",
     "output_type": "stream",
     "text": [
      "<class 'pandas.core.frame.DataFrame'>\n",
      "Int64Index: 316800 entries, 0 to 316799\n",
      "Data columns (total 8 columns):\n",
      " #   Column            Non-Null Count   Dtype  \n",
      "---  ------            --------------   -----  \n",
      " 0   user_id           316800 non-null  int64  \n",
      " 1   timestamp         316466 non-null  object \n",
      " 2   source            316488 non-null  object \n",
      " 3   device            316800 non-null  object \n",
      " 4   operative_system  296461 non-null  object \n",
      " 5   test              316800 non-null  int64  \n",
      " 6   price             316800 non-null  float64\n",
      " 7   converted         316800 non-null  int64  \n",
      "dtypes: float64(1), int64(3), object(4)\n",
      "memory usage: 21.8+ MB\n"
     ]
    }
   ],
   "source": [
    "df_test_res.info()"
   ]
  },
  {
   "cell_type": "markdown",
   "id": "ebec7b84",
   "metadata": {},
   "source": [
    "- Missing values in timestamp, source, and os system\n",
    "- Objects may need to be one hot encoded"
   ]
  },
  {
   "cell_type": "code",
   "execution_count": 6,
   "id": "b0b81cdf",
   "metadata": {
    "execution": {
     "iopub.execute_input": "2021-07-25T20:54:06.050150Z",
     "iopub.status.busy": "2021-07-25T20:54:06.050027Z",
     "iopub.status.idle": "2021-07-25T20:54:06.057446Z",
     "shell.execute_reply": "2021-07-25T20:54:06.056238Z",
     "shell.execute_reply.started": "2021-07-25T20:54:06.050137Z"
    },
    "tags": []
   },
   "outputs": [],
   "source": [
    "# Rename operative_system \n",
    "\n",
    "df_test_res.rename(columns={\"operative_system\":\"os\"}, inplace=True)"
   ]
  },
  {
   "cell_type": "code",
   "execution_count": 7,
   "id": "2a5b083b",
   "metadata": {
    "execution": {
     "iopub.execute_input": "2021-07-25T20:54:06.059527Z",
     "iopub.status.busy": "2021-07-25T20:54:06.059358Z",
     "iopub.status.idle": "2021-07-25T20:54:06.118898Z",
     "shell.execute_reply": "2021-07-25T20:54:06.118525Z",
     "shell.execute_reply.started": "2021-07-25T20:54:06.059510Z"
    },
    "tags": []
   },
   "outputs": [
    {
     "name": "stdout",
     "output_type": "stream",
     "text": [
      "Missing value counts\n"
     ]
    },
    {
     "data": {
      "text/html": [
       "<div>\n",
       "<style scoped>\n",
       "    .dataframe tbody tr th:only-of-type {\n",
       "        vertical-align: middle;\n",
       "    }\n",
       "\n",
       "    .dataframe tbody tr th {\n",
       "        vertical-align: top;\n",
       "    }\n",
       "\n",
       "    .dataframe thead th {\n",
       "        text-align: right;\n",
       "    }\n",
       "</style>\n",
       "<table border=\"1\" class=\"dataframe\">\n",
       "  <thead>\n",
       "    <tr style=\"text-align: right;\">\n",
       "      <th></th>\n",
       "      <th>missing cts</th>\n",
       "    </tr>\n",
       "  </thead>\n",
       "  <tbody>\n",
       "    <tr>\n",
       "      <th>os</th>\n",
       "      <td>20339</td>\n",
       "    </tr>\n",
       "    <tr>\n",
       "      <th>timestamp</th>\n",
       "      <td>334</td>\n",
       "    </tr>\n",
       "    <tr>\n",
       "      <th>source</th>\n",
       "      <td>312</td>\n",
       "    </tr>\n",
       "    <tr>\n",
       "      <th>user_id</th>\n",
       "      <td>0</td>\n",
       "    </tr>\n",
       "    <tr>\n",
       "      <th>device</th>\n",
       "      <td>0</td>\n",
       "    </tr>\n",
       "    <tr>\n",
       "      <th>test</th>\n",
       "      <td>0</td>\n",
       "    </tr>\n",
       "    <tr>\n",
       "      <th>price</th>\n",
       "      <td>0</td>\n",
       "    </tr>\n",
       "    <tr>\n",
       "      <th>converted</th>\n",
       "      <td>0</td>\n",
       "    </tr>\n",
       "  </tbody>\n",
       "</table>\n",
       "</div>"
      ],
      "text/plain": [
       "           missing cts\n",
       "os               20339\n",
       "timestamp          334\n",
       "source             312\n",
       "user_id              0\n",
       "device               0\n",
       "test                 0\n",
       "price                0\n",
       "converted            0"
      ]
     },
     "execution_count": 7,
     "metadata": {},
     "output_type": "execute_result"
    }
   ],
   "source": [
    "# Count NA values\n",
    "\n",
    "df_test_missing_cts_df = pd.DataFrame({#'column_name': df_test_res.columns,\n",
    "                                 'missing cts': df_test_res.isnull().sum()})\n",
    "print('Missing value counts')\n",
    "df_test_missing_cts_df.sort_values(by=['missing cts'], ascending=False)"
   ]
  },
  {
   "cell_type": "code",
   "execution_count": 8,
   "id": "1f556d48",
   "metadata": {
    "execution": {
     "iopub.execute_input": "2021-07-25T20:54:06.120991Z",
     "iopub.status.busy": "2021-07-25T20:54:06.120876Z",
     "iopub.status.idle": "2021-07-25T20:54:06.188107Z",
     "shell.execute_reply": "2021-07-25T20:54:06.187744Z",
     "shell.execute_reply.started": "2021-07-25T20:54:06.120978Z"
    },
    "tags": []
   },
   "outputs": [
    {
     "name": "stdout",
     "output_type": "stream",
     "text": [
      "Percent missing values\n"
     ]
    },
    {
     "data": {
      "text/html": [
       "<div>\n",
       "<style scoped>\n",
       "    .dataframe tbody tr th:only-of-type {\n",
       "        vertical-align: middle;\n",
       "    }\n",
       "\n",
       "    .dataframe tbody tr th {\n",
       "        vertical-align: top;\n",
       "    }\n",
       "\n",
       "    .dataframe thead th {\n",
       "        text-align: right;\n",
       "    }\n",
       "</style>\n",
       "<table border=\"1\" class=\"dataframe\">\n",
       "  <thead>\n",
       "    <tr style=\"text-align: right;\">\n",
       "      <th></th>\n",
       "      <th>missing cts</th>\n",
       "    </tr>\n",
       "  </thead>\n",
       "  <tbody>\n",
       "    <tr>\n",
       "      <th>os</th>\n",
       "      <td>6.42</td>\n",
       "    </tr>\n",
       "    <tr>\n",
       "      <th>timestamp</th>\n",
       "      <td>0.11</td>\n",
       "    </tr>\n",
       "    <tr>\n",
       "      <th>source</th>\n",
       "      <td>0.10</td>\n",
       "    </tr>\n",
       "    <tr>\n",
       "      <th>user_id</th>\n",
       "      <td>0.00</td>\n",
       "    </tr>\n",
       "    <tr>\n",
       "      <th>device</th>\n",
       "      <td>0.00</td>\n",
       "    </tr>\n",
       "    <tr>\n",
       "      <th>test</th>\n",
       "      <td>0.00</td>\n",
       "    </tr>\n",
       "    <tr>\n",
       "      <th>price</th>\n",
       "      <td>0.00</td>\n",
       "    </tr>\n",
       "    <tr>\n",
       "      <th>converted</th>\n",
       "      <td>0.00</td>\n",
       "    </tr>\n",
       "  </tbody>\n",
       "</table>\n",
       "</div>"
      ],
      "text/plain": [
       "           missing cts\n",
       "os                6.42\n",
       "timestamp         0.11\n",
       "source            0.10\n",
       "user_id           0.00\n",
       "device            0.00\n",
       "test              0.00\n",
       "price             0.00\n",
       "converted         0.00"
      ]
     },
     "execution_count": 8,
     "metadata": {},
     "output_type": "execute_result"
    }
   ],
   "source": [
    "# Check proportion of data that is missing\n",
    "\n",
    "print('Percent missing values')\n",
    "\n",
    "df_test_missing_perc = pd.DataFrame({'missing cts': \n",
    "                                round((df_test_res.isnull().sum() / \n",
    "                                       len(df_test_res)) * 100,2)})\n",
    "df_test_missing_perc.sort_values(by=['missing cts'], ascending=False)"
   ]
  },
  {
   "cell_type": "markdown",
   "id": "4c74f8bc",
   "metadata": {},
   "source": [
    "- OS has the most and might benefit from imputation\n",
    "- The percentage of missing values is a bit small for the others and might be ok to drop those rows\n",
    "- "
   ]
  },
  {
   "cell_type": "code",
   "execution_count": 9,
   "id": "dfd6e2bf",
   "metadata": {
    "execution": {
     "iopub.execute_input": "2021-07-25T20:54:06.190199Z",
     "iopub.status.busy": "2021-07-25T20:54:06.190064Z",
     "iopub.status.idle": "2021-07-25T20:54:06.208031Z",
     "shell.execute_reply": "2021-07-25T20:54:06.207637Z",
     "shell.execute_reply.started": "2021-07-25T20:54:06.190185Z"
    },
    "tags": []
   },
   "outputs": [],
   "source": [
    "# Check how NA values in OS are distributed with conversion and test\n",
    "\n",
    "df_miss_os = df_test_res[df_test_res['os'].isnull()]"
   ]
  },
  {
   "cell_type": "code",
   "execution_count": 10,
   "id": "feb4dbe3",
   "metadata": {
    "execution": {
     "iopub.execute_input": "2021-07-25T20:54:06.208876Z",
     "iopub.status.busy": "2021-07-25T20:54:06.208759Z",
     "iopub.status.idle": "2021-07-25T20:54:06.214039Z",
     "shell.execute_reply": "2021-07-25T20:54:06.213105Z",
     "shell.execute_reply.started": "2021-07-25T20:54:06.208861Z"
    },
    "tags": []
   },
   "outputs": [
    {
     "data": {
      "text/plain": [
       "(20339, 8)"
      ]
     },
     "execution_count": 10,
     "metadata": {},
     "output_type": "execute_result"
    }
   ],
   "source": [
    "df_miss_os.shape"
   ]
  },
  {
   "cell_type": "code",
   "execution_count": 11,
   "id": "7b8fdf60",
   "metadata": {
    "execution": {
     "iopub.execute_input": "2021-07-25T20:54:06.214980Z",
     "iopub.status.busy": "2021-07-25T20:54:06.214866Z",
     "iopub.status.idle": "2021-07-25T20:54:06.233144Z",
     "shell.execute_reply": "2021-07-25T20:54:06.232768Z",
     "shell.execute_reply.started": "2021-07-25T20:54:06.214966Z"
    },
    "tags": []
   },
   "outputs": [
    {
     "data": {
      "text/plain": [
       "test  converted\n",
       "0     0            198692\n",
       "      1              4035\n",
       "1     0            112300\n",
       "      1              1773\n",
       "Name: converted, dtype: int64"
      ]
     },
     "execution_count": 11,
     "metadata": {},
     "output_type": "execute_result"
    }
   ],
   "source": [
    "# Print total conversion counts for both tests (including rows with NAs)\n",
    "\n",
    "df_con_tot = df_test_res.groupby(['test','converted'], dropna=False) \\\n",
    "                                ['converted'].count()\n",
    "df_con_tot"
   ]
  },
  {
   "cell_type": "code",
   "execution_count": 12,
   "id": "ed5bc783",
   "metadata": {
    "execution": {
     "iopub.execute_input": "2021-07-25T20:54:06.234015Z",
     "iopub.status.busy": "2021-07-25T20:54:06.233889Z",
     "iopub.status.idle": "2021-07-25T20:54:06.241888Z",
     "shell.execute_reply": "2021-07-25T20:54:06.240469Z",
     "shell.execute_reply.started": "2021-07-25T20:54:06.234002Z"
    },
    "tags": []
   },
   "outputs": [
    {
     "data": {
      "text/plain": [
       "test  converted\n",
       "0     0            0.063032\n",
       "      1            0.044857\n",
       "1     0            0.067418\n",
       "      1            0.035533\n",
       "Name: converted, dtype: float64"
      ]
     },
     "execution_count": 12,
     "metadata": {},
     "output_type": "execute_result"
    }
   ],
   "source": [
    "# Print the proportion of conversion counts by test that are NA for OS\n",
    "\n",
    "df_miss_os.groupby(['test','converted'], dropna=False)['converted'].count()/ \\\n",
    "                    df_con_tot"
   ]
  },
  {
   "cell_type": "markdown",
   "id": "dffc493c",
   "metadata": {
    "execution": {
     "iopub.execute_input": "2021-07-21T18:15:21.321656Z",
     "iopub.status.busy": "2021-07-21T18:15:21.317251Z",
     "iopub.status.idle": "2021-07-21T18:15:21.360701Z",
     "shell.execute_reply": "2021-07-21T18:15:21.359365Z",
     "shell.execute_reply.started": "2021-07-21T18:15:21.321488Z"
    }
   },
   "source": [
    "- Very small percentages and equal in both groups so removal would have a minimal and similar effect on analysis of the test effect"
   ]
  },
  {
   "cell_type": "code",
   "execution_count": 13,
   "id": "1a9f6720",
   "metadata": {
    "execution": {
     "iopub.execute_input": "2021-07-25T20:54:06.244641Z",
     "iopub.status.busy": "2021-07-25T20:54:06.244071Z",
     "iopub.status.idle": "2021-07-25T20:54:06.296873Z",
     "shell.execute_reply": "2021-07-25T20:54:06.296376Z",
     "shell.execute_reply.started": "2021-07-25T20:54:06.244619Z"
    },
    "tags": []
   },
   "outputs": [
    {
     "name": "stdout",
     "output_type": "stream",
     "text": [
      "source\n",
      "['ads_facebook' 'seo-google' 'ads-bing' 'direct_traffic' 'ads-google'\n",
      " 'seo_facebook' 'friend_referral' 'ads_other' 'ads-yahoo' 'seo-yahoo'\n",
      " 'seo-bing' 'seo-other' nan]\n",
      "\n",
      "device\n",
      "['mobile' 'web']\n",
      "\n",
      "os\n",
      "['iOS' 'android' 'mac' 'windows' nan 'i0S' 'wnddows' 'anroid' 'apple']\n",
      "\n",
      "test\n",
      "[0 1]\n",
      "\n",
      "price\n",
      "[3.90000000e+01 5.90000000e+01 7.60350245e+08 ... 8.08182142e+08\n",
      " 6.55179349e+08 6.21407779e+08]\n",
      "\n",
      "converted\n",
      "[0 1]\n",
      "\n"
     ]
    }
   ],
   "source": [
    "# Get unique values for columns besides date\n",
    "\n",
    "# List of columns to obtain unique values\n",
    "col_to_check = ['source','device','os','test','price','converted']\n",
    "\n",
    "for col in col_to_check:\n",
    "    print(col)\n",
    "    print(df_test_res[col].unique())\n",
    "    print('')"
   ]
  },
  {
   "cell_type": "markdown",
   "id": "796a09db",
   "metadata": {},
   "source": [
    "- Source could be combined and split based on the type of source and the specific source\n",
    "- Some overlap with OS that could be changed\n",
    "- Errors with price, more than two values"
   ]
  },
  {
   "cell_type": "code",
   "execution_count": 14,
   "id": "10319f0a",
   "metadata": {
    "execution": {
     "iopub.execute_input": "2021-07-25T20:54:06.297645Z",
     "iopub.status.busy": "2021-07-25T20:54:06.297546Z",
     "iopub.status.idle": "2021-07-25T20:54:06.759344Z",
     "shell.execute_reply": "2021-07-25T20:54:06.759015Z",
     "shell.execute_reply.started": "2021-07-25T20:54:06.297632Z"
    },
    "tags": []
   },
   "outputs": [],
   "source": [
    "# Create source type column and populate based on\n",
    "# ads, seo, friend_referral, or direct traffic\n",
    "\n",
    "source_type_conditions = [\n",
    "    (df_test_res['source'].str.contains('ads') == True),\n",
    "    (df_test_res['source'].str.contains('seo') == True),\n",
    "    (df_test_res['source'].str.contains('direct_traffic') == True),\n",
    "    (df_test_res['source'].str.contains('friend_referral') == True),\n",
    "]\n",
    "\n",
    "source_type_values = ['ads', 'seo', 'direct_traffic', 'friend_referral']\n",
    "\n",
    "df_test_res['source_type'] = np.select(source_type_conditions,\n",
    "                                       source_type_values)"
   ]
  },
  {
   "cell_type": "code",
   "execution_count": 15,
   "id": "aaabe270",
   "metadata": {
    "execution": {
     "iopub.execute_input": "2021-07-25T20:54:06.760014Z",
     "iopub.status.busy": "2021-07-25T20:54:06.759924Z",
     "iopub.status.idle": "2021-07-25T20:54:07.433207Z",
     "shell.execute_reply": "2021-07-25T20:54:07.432757Z",
     "shell.execute_reply.started": "2021-07-25T20:54:06.760003Z"
    },
    "tags": []
   },
   "outputs": [],
   "source": [
    "# Remove ads and SEO from source\n",
    "\n",
    "replacement = {\n",
    "    \"ads_|ads-\": \"\",\n",
    "    \"seo_|seo-\": \"\"\n",
    "}\n",
    "\n",
    "df_test_res['source'] = df_test_res['source'].replace(replacement, regex=True)"
   ]
  },
  {
   "cell_type": "code",
   "execution_count": 16,
   "id": "177e00b1",
   "metadata": {
    "execution": {
     "iopub.execute_input": "2021-07-25T20:54:07.434088Z",
     "iopub.status.busy": "2021-07-25T20:54:07.433982Z",
     "iopub.status.idle": "2021-07-25T20:54:08.169024Z",
     "shell.execute_reply": "2021-07-25T20:54:08.168552Z",
     "shell.execute_reply.started": "2021-07-25T20:54:07.434073Z"
    },
    "tags": []
   },
   "outputs": [],
   "source": [
    "# Consolidate OS categories to apple, windows, and android\n",
    "\n",
    "os_replacement = {\n",
    "    \"iOS|mac|i0S\": \"apple\",\n",
    "    \"wnddows\": \"windows\",\n",
    "    \"anroid\":\"android\"\n",
    "}\n",
    "\n",
    "df_test_res['os'] = df_test_res['os'].replace(os_replacement, regex=True)"
   ]
  },
  {
   "cell_type": "code",
   "execution_count": 17,
   "id": "e559ada5",
   "metadata": {
    "execution": {
     "iopub.execute_input": "2021-07-25T20:54:08.169853Z",
     "iopub.status.busy": "2021-07-25T20:54:08.169745Z",
     "iopub.status.idle": "2021-07-25T20:54:08.180061Z",
     "shell.execute_reply": "2021-07-25T20:54:08.179683Z",
     "shell.execute_reply.started": "2021-07-25T20:54:08.169839Z"
    },
    "tags": []
   },
   "outputs": [],
   "source": [
    "# Fix price to match test\n",
    "\n",
    "price_conditions = [\n",
    "    (df_test_res['test'] == 0),\n",
    "    (df_test_res['test'] == 1)\n",
    "]\n",
    " \n",
    "price_values = [39.00, 59.00]\n",
    "\n",
    "df_test_res['price'] = np.select(price_conditions,\n",
    "                                       price_values)"
   ]
  },
  {
   "cell_type": "code",
   "execution_count": 18,
   "id": "49b0a2f7",
   "metadata": {
    "execution": {
     "iopub.execute_input": "2021-07-25T20:54:08.180904Z",
     "iopub.status.busy": "2021-07-25T20:54:08.180792Z",
     "iopub.status.idle": "2021-07-25T20:54:08.190613Z",
     "shell.execute_reply": "2021-07-25T20:54:08.189995Z",
     "shell.execute_reply.started": "2021-07-25T20:54:08.180890Z"
    },
    "tags": []
   },
   "outputs": [
    {
     "data": {
      "text/html": [
       "<div>\n",
       "<style scoped>\n",
       "    .dataframe tbody tr th:only-of-type {\n",
       "        vertical-align: middle;\n",
       "    }\n",
       "\n",
       "    .dataframe tbody tr th {\n",
       "        vertical-align: top;\n",
       "    }\n",
       "\n",
       "    .dataframe thead th {\n",
       "        text-align: right;\n",
       "    }\n",
       "</style>\n",
       "<table border=\"1\" class=\"dataframe\">\n",
       "  <thead>\n",
       "    <tr style=\"text-align: right;\">\n",
       "      <th></th>\n",
       "      <th>user_id</th>\n",
       "      <th>timestamp</th>\n",
       "      <th>source</th>\n",
       "      <th>device</th>\n",
       "      <th>os</th>\n",
       "      <th>test</th>\n",
       "      <th>price</th>\n",
       "      <th>converted</th>\n",
       "      <th>source_type</th>\n",
       "    </tr>\n",
       "  </thead>\n",
       "  <tbody>\n",
       "    <tr>\n",
       "      <th>0</th>\n",
       "      <td>604839</td>\n",
       "      <td>2015-05-08 03:38:34</td>\n",
       "      <td>facebook</td>\n",
       "      <td>mobile</td>\n",
       "      <td>apple</td>\n",
       "      <td>0</td>\n",
       "      <td>39.0</td>\n",
       "      <td>0</td>\n",
       "      <td>ads</td>\n",
       "    </tr>\n",
       "    <tr>\n",
       "      <th>1</th>\n",
       "      <td>624057</td>\n",
       "      <td>2015-05-10 21:08:46</td>\n",
       "      <td>google</td>\n",
       "      <td>mobile</td>\n",
       "      <td>android</td>\n",
       "      <td>0</td>\n",
       "      <td>39.0</td>\n",
       "      <td>0</td>\n",
       "      <td>seo</td>\n",
       "    </tr>\n",
       "    <tr>\n",
       "      <th>2</th>\n",
       "      <td>317970</td>\n",
       "      <td>2015-04-04 15:01:23</td>\n",
       "      <td>bing</td>\n",
       "      <td>mobile</td>\n",
       "      <td>android</td>\n",
       "      <td>0</td>\n",
       "      <td>39.0</td>\n",
       "      <td>0</td>\n",
       "      <td>ads</td>\n",
       "    </tr>\n",
       "    <tr>\n",
       "      <th>3</th>\n",
       "      <td>685636</td>\n",
       "      <td>2015-05-07 07:26:01</td>\n",
       "      <td>direct_traffic</td>\n",
       "      <td>mobile</td>\n",
       "      <td>apple</td>\n",
       "      <td>1</td>\n",
       "      <td>59.0</td>\n",
       "      <td>0</td>\n",
       "      <td>direct_traffic</td>\n",
       "    </tr>\n",
       "    <tr>\n",
       "      <th>4</th>\n",
       "      <td>820854</td>\n",
       "      <td>2015-05-24 11:04:40</td>\n",
       "      <td>facebook</td>\n",
       "      <td>web</td>\n",
       "      <td>apple</td>\n",
       "      <td>0</td>\n",
       "      <td>39.0</td>\n",
       "      <td>0</td>\n",
       "      <td>ads</td>\n",
       "    </tr>\n",
       "  </tbody>\n",
       "</table>\n",
       "</div>"
      ],
      "text/plain": [
       "   user_id            timestamp          source  device       os  test  price  \\\n",
       "0   604839  2015-05-08 03:38:34        facebook  mobile    apple     0   39.0   \n",
       "1   624057  2015-05-10 21:08:46          google  mobile  android     0   39.0   \n",
       "2   317970  2015-04-04 15:01:23            bing  mobile  android     0   39.0   \n",
       "3   685636  2015-05-07 07:26:01  direct_traffic  mobile    apple     1   59.0   \n",
       "4   820854  2015-05-24 11:04:40        facebook     web    apple     0   39.0   \n",
       "\n",
       "   converted     source_type  \n",
       "0          0             ads  \n",
       "1          0             seo  \n",
       "2          0             ads  \n",
       "3          0  direct_traffic  \n",
       "4          0             ads  "
      ]
     },
     "execution_count": 18,
     "metadata": {},
     "output_type": "execute_result"
    }
   ],
   "source": [
    "df_test_res.head()"
   ]
  },
  {
   "cell_type": "code",
   "execution_count": 19,
   "id": "8d29a1e3",
   "metadata": {
    "execution": {
     "iopub.execute_input": "2021-07-25T20:54:08.191483Z",
     "iopub.status.busy": "2021-07-25T20:54:08.191367Z",
     "iopub.status.idle": "2021-07-25T20:54:08.259748Z",
     "shell.execute_reply": "2021-07-25T20:54:08.259397Z",
     "shell.execute_reply.started": "2021-07-25T20:54:08.191468Z"
    },
    "tags": []
   },
   "outputs": [
    {
     "data": {
      "text/html": [
       "<div>\n",
       "<style scoped>\n",
       "    .dataframe tbody tr th:only-of-type {\n",
       "        vertical-align: middle;\n",
       "    }\n",
       "\n",
       "    .dataframe tbody tr th {\n",
       "        vertical-align: top;\n",
       "    }\n",
       "\n",
       "    .dataframe thead th {\n",
       "        text-align: right;\n",
       "    }\n",
       "</style>\n",
       "<table border=\"1\" class=\"dataframe\">\n",
       "  <thead>\n",
       "    <tr style=\"text-align: right;\">\n",
       "      <th></th>\n",
       "      <th>user_id</th>\n",
       "      <th>test</th>\n",
       "      <th>price</th>\n",
       "      <th>converted</th>\n",
       "    </tr>\n",
       "  </thead>\n",
       "  <tbody>\n",
       "    <tr>\n",
       "      <th>count</th>\n",
       "      <td>316800.000000</td>\n",
       "      <td>316800.000000</td>\n",
       "      <td>316800.000000</td>\n",
       "      <td>316800.000000</td>\n",
       "    </tr>\n",
       "    <tr>\n",
       "      <th>mean</th>\n",
       "      <td>499281.341840</td>\n",
       "      <td>0.360079</td>\n",
       "      <td>46.201578</td>\n",
       "      <td>0.018333</td>\n",
       "    </tr>\n",
       "    <tr>\n",
       "      <th>std</th>\n",
       "      <td>288591.154044</td>\n",
       "      <td>0.480024</td>\n",
       "      <td>9.600475</td>\n",
       "      <td>0.134154</td>\n",
       "    </tr>\n",
       "    <tr>\n",
       "      <th>min</th>\n",
       "      <td>3.000000</td>\n",
       "      <td>0.000000</td>\n",
       "      <td>39.000000</td>\n",
       "      <td>0.000000</td>\n",
       "    </tr>\n",
       "    <tr>\n",
       "      <th>25%</th>\n",
       "      <td>249525.750000</td>\n",
       "      <td>0.000000</td>\n",
       "      <td>39.000000</td>\n",
       "      <td>0.000000</td>\n",
       "    </tr>\n",
       "    <tr>\n",
       "      <th>50%</th>\n",
       "      <td>499021.500000</td>\n",
       "      <td>0.000000</td>\n",
       "      <td>39.000000</td>\n",
       "      <td>0.000000</td>\n",
       "    </tr>\n",
       "    <tr>\n",
       "      <th>75%</th>\n",
       "      <td>749025.500000</td>\n",
       "      <td>1.000000</td>\n",
       "      <td>59.000000</td>\n",
       "      <td>0.000000</td>\n",
       "    </tr>\n",
       "    <tr>\n",
       "      <th>max</th>\n",
       "      <td>1000000.000000</td>\n",
       "      <td>1.000000</td>\n",
       "      <td>59.000000</td>\n",
       "      <td>1.000000</td>\n",
       "    </tr>\n",
       "  </tbody>\n",
       "</table>\n",
       "</div>"
      ],
      "text/plain": [
       "              user_id           test          price      converted\n",
       "count   316800.000000  316800.000000  316800.000000  316800.000000\n",
       "mean    499281.341840       0.360079      46.201578       0.018333\n",
       "std     288591.154044       0.480024       9.600475       0.134154\n",
       "min          3.000000       0.000000      39.000000       0.000000\n",
       "25%     249525.750000       0.000000      39.000000       0.000000\n",
       "50%     499021.500000       0.000000      39.000000       0.000000\n",
       "75%     749025.500000       1.000000      59.000000       0.000000\n",
       "max    1000000.000000       1.000000      59.000000       1.000000"
      ]
     },
     "execution_count": 19,
     "metadata": {},
     "output_type": "execute_result"
    }
   ],
   "source": [
    "# Check summary statistics for non-objects\n",
    "\n",
    "df_test_res.describe()"
   ]
  },
  {
   "cell_type": "code",
   "execution_count": 20,
   "id": "474ab801",
   "metadata": {
    "execution": {
     "iopub.execute_input": "2021-07-25T20:54:08.260500Z",
     "iopub.status.busy": "2021-07-25T20:54:08.260403Z",
     "iopub.status.idle": "2021-07-25T20:54:08.269862Z",
     "shell.execute_reply": "2021-07-25T20:54:08.268972Z",
     "shell.execute_reply.started": "2021-07-25T20:54:08.260487Z"
    },
    "tags": []
   },
   "outputs": [
    {
     "data": {
      "text/html": [
       "<div>\n",
       "<style scoped>\n",
       "    .dataframe tbody tr th:only-of-type {\n",
       "        vertical-align: middle;\n",
       "    }\n",
       "\n",
       "    .dataframe tbody tr th {\n",
       "        vertical-align: top;\n",
       "    }\n",
       "\n",
       "    .dataframe thead th {\n",
       "        text-align: right;\n",
       "    }\n",
       "</style>\n",
       "<table border=\"1\" class=\"dataframe\">\n",
       "  <thead>\n",
       "    <tr style=\"text-align: right;\">\n",
       "      <th></th>\n",
       "      <th>user_id</th>\n",
       "      <th>timestamp</th>\n",
       "      <th>source</th>\n",
       "      <th>device</th>\n",
       "      <th>os</th>\n",
       "      <th>test</th>\n",
       "      <th>price</th>\n",
       "      <th>converted</th>\n",
       "      <th>source_type</th>\n",
       "    </tr>\n",
       "  </thead>\n",
       "  <tbody>\n",
       "    <tr>\n",
       "      <th>0</th>\n",
       "      <td>604839</td>\n",
       "      <td>2015-05-08 03:38:34</td>\n",
       "      <td>facebook</td>\n",
       "      <td>mobile</td>\n",
       "      <td>apple</td>\n",
       "      <td>0</td>\n",
       "      <td>39.0</td>\n",
       "      <td>0</td>\n",
       "      <td>ads</td>\n",
       "    </tr>\n",
       "    <tr>\n",
       "      <th>1</th>\n",
       "      <td>624057</td>\n",
       "      <td>2015-05-10 21:08:46</td>\n",
       "      <td>google</td>\n",
       "      <td>mobile</td>\n",
       "      <td>android</td>\n",
       "      <td>0</td>\n",
       "      <td>39.0</td>\n",
       "      <td>0</td>\n",
       "      <td>seo</td>\n",
       "    </tr>\n",
       "    <tr>\n",
       "      <th>2</th>\n",
       "      <td>317970</td>\n",
       "      <td>2015-04-04 15:01:23</td>\n",
       "      <td>bing</td>\n",
       "      <td>mobile</td>\n",
       "      <td>android</td>\n",
       "      <td>0</td>\n",
       "      <td>39.0</td>\n",
       "      <td>0</td>\n",
       "      <td>ads</td>\n",
       "    </tr>\n",
       "    <tr>\n",
       "      <th>3</th>\n",
       "      <td>685636</td>\n",
       "      <td>2015-05-07 07:26:01</td>\n",
       "      <td>direct_traffic</td>\n",
       "      <td>mobile</td>\n",
       "      <td>apple</td>\n",
       "      <td>1</td>\n",
       "      <td>59.0</td>\n",
       "      <td>0</td>\n",
       "      <td>direct_traffic</td>\n",
       "    </tr>\n",
       "    <tr>\n",
       "      <th>4</th>\n",
       "      <td>820854</td>\n",
       "      <td>2015-05-24 11:04:40</td>\n",
       "      <td>facebook</td>\n",
       "      <td>web</td>\n",
       "      <td>apple</td>\n",
       "      <td>0</td>\n",
       "      <td>39.0</td>\n",
       "      <td>0</td>\n",
       "      <td>ads</td>\n",
       "    </tr>\n",
       "  </tbody>\n",
       "</table>\n",
       "</div>"
      ],
      "text/plain": [
       "   user_id            timestamp          source  device       os  test  price  \\\n",
       "0   604839  2015-05-08 03:38:34        facebook  mobile    apple     0   39.0   \n",
       "1   624057  2015-05-10 21:08:46          google  mobile  android     0   39.0   \n",
       "2   317970  2015-04-04 15:01:23            bing  mobile  android     0   39.0   \n",
       "3   685636  2015-05-07 07:26:01  direct_traffic  mobile    apple     1   59.0   \n",
       "4   820854  2015-05-24 11:04:40        facebook     web    apple     0   39.0   \n",
       "\n",
       "   converted     source_type  \n",
       "0          0             ads  \n",
       "1          0             seo  \n",
       "2          0             ads  \n",
       "3          0  direct_traffic  \n",
       "4          0             ads  "
      ]
     },
     "execution_count": 20,
     "metadata": {},
     "output_type": "execute_result"
    }
   ],
   "source": [
    "# Check screenshot of data\n",
    "\n",
    "df_test_res.head()"
   ]
  },
  {
   "cell_type": "markdown",
   "id": "cf674950",
   "metadata": {},
   "source": [
    "- Timestamp has both date and time\n",
    "- Need to separate into date and time columns"
   ]
  },
  {
   "cell_type": "code",
   "execution_count": 21,
   "id": "7c371843",
   "metadata": {
    "execution": {
     "iopub.execute_input": "2021-07-25T20:54:08.270682Z",
     "iopub.status.busy": "2021-07-25T20:54:08.270572Z",
     "iopub.status.idle": "2021-07-25T20:54:08.852631Z",
     "shell.execute_reply": "2021-07-25T20:54:08.851769Z",
     "shell.execute_reply.started": "2021-07-25T20:54:08.270667Z"
    },
    "tags": []
   },
   "outputs": [],
   "source": [
    "# Separate timestamp into respective dates and times\n",
    "\n",
    "# Convert timestamp to a temp datetime format and coerce errors into NaT\n",
    "df_test_res['temp_dt'] = pd.to_datetime(df_test_res['timestamp'],\n",
    "                                        errors='coerce')"
   ]
  },
  {
   "cell_type": "code",
   "execution_count": 22,
   "id": "621335f8",
   "metadata": {
    "execution": {
     "iopub.execute_input": "2021-07-25T20:54:08.854306Z",
     "iopub.status.busy": "2021-07-25T20:54:08.854030Z",
     "iopub.status.idle": "2021-07-25T20:54:08.921379Z",
     "shell.execute_reply": "2021-07-25T20:54:08.920926Z",
     "shell.execute_reply.started": "2021-07-25T20:54:08.854289Z"
    },
    "tags": []
   },
   "outputs": [
    {
     "name": "stdout",
     "output_type": "stream",
     "text": [
      "<class 'pandas.core.frame.DataFrame'>\n",
      "Int64Index: 316800 entries, 0 to 316799\n",
      "Data columns (total 10 columns):\n",
      " #   Column       Non-Null Count   Dtype         \n",
      "---  ------       --------------   -----         \n",
      " 0   user_id      316800 non-null  int64         \n",
      " 1   timestamp    316466 non-null  object        \n",
      " 2   source       316488 non-null  object        \n",
      " 3   device       316800 non-null  object        \n",
      " 4   os           296461 non-null  object        \n",
      " 5   test         316800 non-null  int64         \n",
      " 6   price        316800 non-null  float64       \n",
      " 7   converted    316800 non-null  int64         \n",
      " 8   source_type  316800 non-null  object        \n",
      " 9   temp_dt      305905 non-null  datetime64[ns]\n",
      "dtypes: datetime64[ns](1), float64(1), int64(3), object(5)\n",
      "memory usage: 26.6+ MB\n"
     ]
    }
   ],
   "source": [
    "df_test_res.info()"
   ]
  },
  {
   "cell_type": "code",
   "execution_count": 23,
   "id": "de52b097",
   "metadata": {
    "execution": {
     "iopub.execute_input": "2021-07-25T20:54:08.926481Z",
     "iopub.status.busy": "2021-07-25T20:54:08.926326Z",
     "iopub.status.idle": "2021-07-25T20:54:08.937842Z",
     "shell.execute_reply": "2021-07-25T20:54:08.937391Z",
     "shell.execute_reply.started": "2021-07-25T20:54:08.926468Z"
    },
    "tags": []
   },
   "outputs": [
    {
     "data": {
      "text/html": [
       "<div>\n",
       "<style scoped>\n",
       "    .dataframe tbody tr th:only-of-type {\n",
       "        vertical-align: middle;\n",
       "    }\n",
       "\n",
       "    .dataframe tbody tr th {\n",
       "        vertical-align: top;\n",
       "    }\n",
       "\n",
       "    .dataframe thead th {\n",
       "        text-align: right;\n",
       "    }\n",
       "</style>\n",
       "<table border=\"1\" class=\"dataframe\">\n",
       "  <thead>\n",
       "    <tr style=\"text-align: right;\">\n",
       "      <th></th>\n",
       "      <th>timestamp</th>\n",
       "      <th>temp_dt</th>\n",
       "    </tr>\n",
       "  </thead>\n",
       "  <tbody>\n",
       "    <tr>\n",
       "      <th>54</th>\n",
       "      <td>2015-04-24 12:60:46</td>\n",
       "      <td>NaT</td>\n",
       "    </tr>\n",
       "    <tr>\n",
       "      <th>104</th>\n",
       "      <td>2015-04-24 11:60:20</td>\n",
       "      <td>NaT</td>\n",
       "    </tr>\n",
       "    <tr>\n",
       "      <th>121</th>\n",
       "      <td>2015-03-14 12:60:02</td>\n",
       "      <td>NaT</td>\n",
       "    </tr>\n",
       "    <tr>\n",
       "      <th>278</th>\n",
       "      <td>2015-04-04 02:23:60</td>\n",
       "      <td>NaT</td>\n",
       "    </tr>\n",
       "    <tr>\n",
       "      <th>282</th>\n",
       "      <td>2015-05-11 12:60:53</td>\n",
       "      <td>NaT</td>\n",
       "    </tr>\n",
       "    <tr>\n",
       "      <th>287</th>\n",
       "      <td>2015-04-26 11:60:44</td>\n",
       "      <td>NaT</td>\n",
       "    </tr>\n",
       "    <tr>\n",
       "      <th>330</th>\n",
       "      <td>2015-03-20 12:20:60</td>\n",
       "      <td>NaT</td>\n",
       "    </tr>\n",
       "    <tr>\n",
       "      <th>361</th>\n",
       "      <td>2015-04-10 07:42:60</td>\n",
       "      <td>NaT</td>\n",
       "    </tr>\n",
       "    <tr>\n",
       "      <th>383</th>\n",
       "      <td>2015-03-10 12:31:60</td>\n",
       "      <td>NaT</td>\n",
       "    </tr>\n",
       "    <tr>\n",
       "      <th>388</th>\n",
       "      <td>2815-04-11 11:23:54</td>\n",
       "      <td>NaT</td>\n",
       "    </tr>\n",
       "  </tbody>\n",
       "</table>\n",
       "</div>"
      ],
      "text/plain": [
       "               timestamp temp_dt\n",
       "54   2015-04-24 12:60:46     NaT\n",
       "104  2015-04-24 11:60:20     NaT\n",
       "121  2015-03-14 12:60:02     NaT\n",
       "278  2015-04-04 02:23:60     NaT\n",
       "282  2015-05-11 12:60:53     NaT\n",
       "287  2015-04-26 11:60:44     NaT\n",
       "330  2015-03-20 12:20:60     NaT\n",
       "361  2015-04-10 07:42:60     NaT\n",
       "383  2015-03-10 12:31:60     NaT\n",
       "388  2815-04-11 11:23:54     NaT"
      ]
     },
     "execution_count": 23,
     "metadata": {},
     "output_type": "execute_result"
    }
   ],
   "source": [
    "# Check source of NaT errors\n",
    "\n",
    "df_test_res[df_test_res['temp_dt'].isna()][['timestamp','temp_dt']][:10]"
   ]
  },
  {
   "cell_type": "markdown",
   "id": "464e25f8",
   "metadata": {},
   "source": [
    "- Note impossible presence of 60 values in minutes and seconds\n",
    "- Need to convert these to 59\n",
    "- Also note impossible year, e.g. 2815\n",
    "- Need to convert the 8 to a 0"
   ]
  },
  {
   "cell_type": "code",
   "execution_count": 24,
   "id": "e4c89abf",
   "metadata": {
    "execution": {
     "iopub.execute_input": "2021-07-25T20:54:08.941019Z",
     "iopub.status.busy": "2021-07-25T20:54:08.940871Z",
     "iopub.status.idle": "2021-07-25T20:54:09.094215Z",
     "shell.execute_reply": "2021-07-25T20:54:09.093815Z",
     "shell.execute_reply.started": "2021-07-25T20:54:08.941004Z"
    },
    "tags": []
   },
   "outputs": [],
   "source": [
    "# Convert 60s to 59s in time\n",
    "\n",
    "df_test_res['temp_timestamp'] = df_test_res['timestamp'].str.replace('60', '59')"
   ]
  },
  {
   "cell_type": "code",
   "execution_count": 25,
   "id": "48a653a1",
   "metadata": {
    "execution": {
     "iopub.execute_input": "2021-07-25T20:54:09.094934Z",
     "iopub.status.busy": "2021-07-25T20:54:09.094834Z",
     "iopub.status.idle": "2021-07-25T20:54:09.290649Z",
     "shell.execute_reply": "2021-07-25T20:54:09.290299Z",
     "shell.execute_reply.started": "2021-07-25T20:54:09.094921Z"
    },
    "tags": []
   },
   "outputs": [],
   "source": [
    "# Convert 2815 to 2015\n",
    "\n",
    "df_test_res['temp_timestamp'] = (\n",
    "    df_test_res['temp_timestamp'].str.replace('2815','2015')\n",
    "    )"
   ]
  },
  {
   "cell_type": "code",
   "execution_count": 26,
   "id": "fd85d8b2",
   "metadata": {
    "execution": {
     "iopub.execute_input": "2021-07-25T20:54:09.291713Z",
     "iopub.status.busy": "2021-07-25T20:54:09.291568Z",
     "iopub.status.idle": "2021-07-25T20:54:09.337908Z",
     "shell.execute_reply": "2021-07-25T20:54:09.337480Z",
     "shell.execute_reply.started": "2021-07-25T20:54:09.291698Z"
    },
    "tags": []
   },
   "outputs": [],
   "source": [
    "# Convert back to datetime\n",
    "\n",
    "df_test_res['temp_dt2'] = pd.to_datetime(df_test_res['temp_timestamp'],\n",
    "                                        errors='coerce')"
   ]
  },
  {
   "cell_type": "code",
   "execution_count": 27,
   "id": "f831db84",
   "metadata": {
    "execution": {
     "iopub.execute_input": "2021-07-25T20:54:09.339213Z",
     "iopub.status.busy": "2021-07-25T20:54:09.339019Z",
     "iopub.status.idle": "2021-07-25T20:54:09.370679Z",
     "shell.execute_reply": "2021-07-25T20:54:09.369963Z",
     "shell.execute_reply.started": "2021-07-25T20:54:09.339193Z"
    },
    "tags": []
   },
   "outputs": [
    {
     "data": {
      "text/html": [
       "<div>\n",
       "<style scoped>\n",
       "    .dataframe tbody tr th:only-of-type {\n",
       "        vertical-align: middle;\n",
       "    }\n",
       "\n",
       "    .dataframe tbody tr th {\n",
       "        vertical-align: top;\n",
       "    }\n",
       "\n",
       "    .dataframe thead th {\n",
       "        text-align: right;\n",
       "    }\n",
       "</style>\n",
       "<table border=\"1\" class=\"dataframe\">\n",
       "  <thead>\n",
       "    <tr style=\"text-align: right;\">\n",
       "      <th></th>\n",
       "      <th>timestamp</th>\n",
       "      <th>temp_dt2</th>\n",
       "    </tr>\n",
       "  </thead>\n",
       "  <tbody>\n",
       "    <tr>\n",
       "      <th>586</th>\n",
       "      <td>NaN</td>\n",
       "      <td>NaT</td>\n",
       "    </tr>\n",
       "    <tr>\n",
       "      <th>986</th>\n",
       "      <td>NaN</td>\n",
       "      <td>NaT</td>\n",
       "    </tr>\n",
       "    <tr>\n",
       "      <th>2285</th>\n",
       "      <td>NaN</td>\n",
       "      <td>NaT</td>\n",
       "    </tr>\n",
       "    <tr>\n",
       "      <th>2397</th>\n",
       "      <td>NaN</td>\n",
       "      <td>NaT</td>\n",
       "    </tr>\n",
       "    <tr>\n",
       "      <th>2937</th>\n",
       "      <td>NaN</td>\n",
       "      <td>NaT</td>\n",
       "    </tr>\n",
       "    <tr>\n",
       "      <th>3610</th>\n",
       "      <td>NaN</td>\n",
       "      <td>NaT</td>\n",
       "    </tr>\n",
       "    <tr>\n",
       "      <th>3624</th>\n",
       "      <td>NaN</td>\n",
       "      <td>NaT</td>\n",
       "    </tr>\n",
       "    <tr>\n",
       "      <th>4926</th>\n",
       "      <td>NaN</td>\n",
       "      <td>NaT</td>\n",
       "    </tr>\n",
       "    <tr>\n",
       "      <th>6521</th>\n",
       "      <td>NaN</td>\n",
       "      <td>NaT</td>\n",
       "    </tr>\n",
       "    <tr>\n",
       "      <th>6678</th>\n",
       "      <td>NaN</td>\n",
       "      <td>NaT</td>\n",
       "    </tr>\n",
       "  </tbody>\n",
       "</table>\n",
       "</div>"
      ],
      "text/plain": [
       "     timestamp temp_dt2\n",
       "586        NaN      NaT\n",
       "986        NaN      NaT\n",
       "2285       NaN      NaT\n",
       "2397       NaN      NaT\n",
       "2937       NaN      NaT\n",
       "3610       NaN      NaT\n",
       "3624       NaN      NaT\n",
       "4926       NaN      NaT\n",
       "6521       NaN      NaT\n",
       "6678       NaN      NaT"
      ]
     },
     "execution_count": 27,
     "metadata": {},
     "output_type": "execute_result"
    }
   ],
   "source": [
    "# Check for errors converting to timestamp\n",
    "\n",
    "df_test_res[df_test_res['temp_dt2'].isna()][['timestamp','temp_dt2']][:10]"
   ]
  },
  {
   "cell_type": "code",
   "execution_count": 28,
   "id": "5fb8966a",
   "metadata": {
    "execution": {
     "iopub.execute_input": "2021-07-25T20:54:09.371744Z",
     "iopub.status.busy": "2021-07-25T20:54:09.371592Z",
     "iopub.status.idle": "2021-07-25T20:54:09.430659Z",
     "shell.execute_reply": "2021-07-25T20:54:09.430260Z",
     "shell.execute_reply.started": "2021-07-25T20:54:09.371730Z"
    }
   },
   "outputs": [],
   "source": [
    "# Convert corrected timestamp to datetime format\n",
    "\n",
    "df_test_res['timestamp'] = pd.to_datetime(df_test_res['temp_timestamp'],\n",
    "                                        errors='coerce')"
   ]
  },
  {
   "cell_type": "code",
   "execution_count": 29,
   "id": "22bf6186",
   "metadata": {
    "execution": {
     "iopub.execute_input": "2021-07-25T20:54:09.431437Z",
     "iopub.status.busy": "2021-07-25T20:54:09.431338Z",
     "iopub.status.idle": "2021-07-25T20:54:09.459735Z",
     "shell.execute_reply": "2021-07-25T20:54:09.458450Z",
     "shell.execute_reply.started": "2021-07-25T20:54:09.431423Z"
    },
    "tags": []
   },
   "outputs": [],
   "source": [
    "# Remove placeholder check variables\n",
    "\n",
    "df_test_res.drop(['temp_dt','temp_timestamp','temp_dt2'],\n",
    "                 axis=1,\n",
    "                 inplace=True)"
   ]
  },
  {
   "cell_type": "code",
   "execution_count": 30,
   "id": "f4e21ee6",
   "metadata": {
    "execution": {
     "iopub.execute_input": "2021-07-25T20:54:09.463770Z",
     "iopub.status.busy": "2021-07-25T20:54:09.463588Z",
     "iopub.status.idle": "2021-07-25T20:54:09.639880Z",
     "shell.execute_reply": "2021-07-25T20:54:09.639529Z",
     "shell.execute_reply.started": "2021-07-25T20:54:09.463755Z"
    },
    "tags": []
   },
   "outputs": [],
   "source": [
    "# Create date and time columns\n",
    "\n",
    "df_test_res['date'] = df_test_res['timestamp'].dt.date\n",
    "df_test_res['time'] = df_test_res['timestamp'].dt.time"
   ]
  },
  {
   "cell_type": "code",
   "execution_count": 31,
   "id": "d17b4a52",
   "metadata": {
    "execution": {
     "iopub.execute_input": "2021-07-25T20:54:09.640701Z",
     "iopub.status.busy": "2021-07-25T20:54:09.640610Z",
     "iopub.status.idle": "2021-07-25T20:54:09.658979Z",
     "shell.execute_reply": "2021-07-25T20:54:09.658072Z",
     "shell.execute_reply.started": "2021-07-25T20:54:09.640689Z"
    }
   },
   "outputs": [
    {
     "data": {
      "text/plain": [
       "True"
      ]
     },
     "execution_count": 31,
     "metadata": {},
     "output_type": "execute_result"
    }
   ],
   "source": [
    "# Check for duplicate user ids\n",
    "# This would indicate if we have the same user multiple times\n",
    "# If True, we have all unique ids, if false, there are duplicates\n",
    "\n",
    "df_test_res['user_id'].nunique() == len(df_test_res)"
   ]
  },
  {
   "cell_type": "markdown",
   "id": "a308abfa",
   "metadata": {
    "tags": []
   },
   "source": [
    "## User data"
   ]
  },
  {
   "cell_type": "code",
   "execution_count": 32,
   "id": "31f9a706",
   "metadata": {
    "execution": {
     "iopub.execute_input": "2021-07-25T20:54:09.660261Z",
     "iopub.status.busy": "2021-07-25T20:54:09.660082Z",
     "iopub.status.idle": "2021-07-25T20:54:09.667989Z",
     "shell.execute_reply": "2021-07-25T20:54:09.666593Z",
     "shell.execute_reply.started": "2021-07-25T20:54:09.660243Z"
    },
    "tags": []
   },
   "outputs": [
    {
     "data": {
      "text/plain": [
       "(275616, 5)"
      ]
     },
     "execution_count": 32,
     "metadata": {},
     "output_type": "execute_result"
    }
   ],
   "source": [
    "df_users.shape"
   ]
  },
  {
   "cell_type": "code",
   "execution_count": 33,
   "id": "de3eb07d",
   "metadata": {
    "execution": {
     "iopub.execute_input": "2021-07-25T20:54:09.669338Z",
     "iopub.status.busy": "2021-07-25T20:54:09.669190Z",
     "iopub.status.idle": "2021-07-25T20:54:09.696767Z",
     "shell.execute_reply": "2021-07-25T20:54:09.696224Z",
     "shell.execute_reply.started": "2021-07-25T20:54:09.669323Z"
    },
    "tags": []
   },
   "outputs": [
    {
     "name": "stdout",
     "output_type": "stream",
     "text": [
      "<class 'pandas.core.frame.DataFrame'>\n",
      "RangeIndex: 275616 entries, 0 to 275615\n",
      "Data columns (total 5 columns):\n",
      " #   Column   Non-Null Count   Dtype  \n",
      "---  ------   --------------   -----  \n",
      " 0   user_id  275616 non-null  int64  \n",
      " 1   city     275616 non-null  object \n",
      " 2   country  275616 non-null  object \n",
      " 3   lat      275616 non-null  float64\n",
      " 4   long     275616 non-null  float64\n",
      "dtypes: float64(2), int64(1), object(2)\n",
      "memory usage: 10.5+ MB\n"
     ]
    }
   ],
   "source": [
    "df_users.info()"
   ]
  },
  {
   "cell_type": "code",
   "execution_count": 34,
   "id": "73ff60c6",
   "metadata": {
    "execution": {
     "iopub.execute_input": "2021-07-25T20:54:09.697608Z",
     "iopub.status.busy": "2021-07-25T20:54:09.697496Z",
     "iopub.status.idle": "2021-07-25T20:54:09.739295Z",
     "shell.execute_reply": "2021-07-25T20:54:09.738965Z",
     "shell.execute_reply.started": "2021-07-25T20:54:09.697595Z"
    },
    "tags": []
   },
   "outputs": [
    {
     "data": {
      "text/html": [
       "<div>\n",
       "<style scoped>\n",
       "    .dataframe tbody tr th:only-of-type {\n",
       "        vertical-align: middle;\n",
       "    }\n",
       "\n",
       "    .dataframe tbody tr th {\n",
       "        vertical-align: top;\n",
       "    }\n",
       "\n",
       "    .dataframe thead th {\n",
       "        text-align: right;\n",
       "    }\n",
       "</style>\n",
       "<table border=\"1\" class=\"dataframe\">\n",
       "  <thead>\n",
       "    <tr style=\"text-align: right;\">\n",
       "      <th></th>\n",
       "      <th>user_id</th>\n",
       "      <th>lat</th>\n",
       "      <th>long</th>\n",
       "    </tr>\n",
       "  </thead>\n",
       "  <tbody>\n",
       "    <tr>\n",
       "      <th>count</th>\n",
       "      <td>275616.000000</td>\n",
       "      <td>275616.000000</td>\n",
       "      <td>275616.000000</td>\n",
       "    </tr>\n",
       "    <tr>\n",
       "      <th>mean</th>\n",
       "      <td>499245.801521</td>\n",
       "      <td>37.111680</td>\n",
       "      <td>-93.981772</td>\n",
       "    </tr>\n",
       "    <tr>\n",
       "      <th>std</th>\n",
       "      <td>288533.458944</td>\n",
       "      <td>5.209627</td>\n",
       "      <td>18.086486</td>\n",
       "    </tr>\n",
       "    <tr>\n",
       "      <th>min</th>\n",
       "      <td>3.000000</td>\n",
       "      <td>19.700000</td>\n",
       "      <td>-157.800000</td>\n",
       "    </tr>\n",
       "    <tr>\n",
       "      <th>25%</th>\n",
       "      <td>249544.500000</td>\n",
       "      <td>33.660000</td>\n",
       "      <td>-112.200000</td>\n",
       "    </tr>\n",
       "    <tr>\n",
       "      <th>50%</th>\n",
       "      <td>498861.000000</td>\n",
       "      <td>37.740000</td>\n",
       "      <td>-88.930000</td>\n",
       "    </tr>\n",
       "    <tr>\n",
       "      <th>75%</th>\n",
       "      <td>748856.500000</td>\n",
       "      <td>40.700000</td>\n",
       "      <td>-78.910000</td>\n",
       "    </tr>\n",
       "    <tr>\n",
       "      <th>max</th>\n",
       "      <td>999999.000000</td>\n",
       "      <td>61.180000</td>\n",
       "      <td>30.310000</td>\n",
       "    </tr>\n",
       "  </tbody>\n",
       "</table>\n",
       "</div>"
      ],
      "text/plain": [
       "             user_id            lat           long\n",
       "count  275616.000000  275616.000000  275616.000000\n",
       "mean   499245.801521      37.111680     -93.981772\n",
       "std    288533.458944       5.209627      18.086486\n",
       "min         3.000000      19.700000    -157.800000\n",
       "25%    249544.500000      33.660000    -112.200000\n",
       "50%    498861.000000      37.740000     -88.930000\n",
       "75%    748856.500000      40.700000     -78.910000\n",
       "max    999999.000000      61.180000      30.310000"
      ]
     },
     "execution_count": 34,
     "metadata": {},
     "output_type": "execute_result"
    }
   ],
   "source": [
    "df_users.describe()"
   ]
  },
  {
   "cell_type": "code",
   "execution_count": 35,
   "id": "9312460d",
   "metadata": {
    "execution": {
     "iopub.execute_input": "2021-07-25T20:54:09.739947Z",
     "iopub.status.busy": "2021-07-25T20:54:09.739857Z",
     "iopub.status.idle": "2021-07-25T20:54:09.764800Z",
     "shell.execute_reply": "2021-07-25T20:54:09.764398Z",
     "shell.execute_reply.started": "2021-07-25T20:54:09.739935Z"
    },
    "tags": []
   },
   "outputs": [
    {
     "name": "stdout",
     "output_type": "stream",
     "text": [
      "Missing value counts\n"
     ]
    },
    {
     "data": {
      "text/html": [
       "<div>\n",
       "<style scoped>\n",
       "    .dataframe tbody tr th:only-of-type {\n",
       "        vertical-align: middle;\n",
       "    }\n",
       "\n",
       "    .dataframe tbody tr th {\n",
       "        vertical-align: top;\n",
       "    }\n",
       "\n",
       "    .dataframe thead th {\n",
       "        text-align: right;\n",
       "    }\n",
       "</style>\n",
       "<table border=\"1\" class=\"dataframe\">\n",
       "  <thead>\n",
       "    <tr style=\"text-align: right;\">\n",
       "      <th></th>\n",
       "      <th>missing cts</th>\n",
       "    </tr>\n",
       "  </thead>\n",
       "  <tbody>\n",
       "    <tr>\n",
       "      <th>user_id</th>\n",
       "      <td>0</td>\n",
       "    </tr>\n",
       "    <tr>\n",
       "      <th>city</th>\n",
       "      <td>0</td>\n",
       "    </tr>\n",
       "    <tr>\n",
       "      <th>country</th>\n",
       "      <td>0</td>\n",
       "    </tr>\n",
       "    <tr>\n",
       "      <th>lat</th>\n",
       "      <td>0</td>\n",
       "    </tr>\n",
       "    <tr>\n",
       "      <th>long</th>\n",
       "      <td>0</td>\n",
       "    </tr>\n",
       "  </tbody>\n",
       "</table>\n",
       "</div>"
      ],
      "text/plain": [
       "         missing cts\n",
       "user_id            0\n",
       "city               0\n",
       "country            0\n",
       "lat                0\n",
       "long               0"
      ]
     },
     "execution_count": 35,
     "metadata": {},
     "output_type": "execute_result"
    }
   ],
   "source": [
    "# Count NA values\n",
    "\n",
    "df_users_missing_cts = pd.DataFrame({#'column_name': df_test_res.columns,\n",
    "                                 'missing cts': df_users.isnull().sum()})\n",
    "print('Missing value counts')\n",
    "df_users_missing_cts.sort_values(by=['missing cts'], ascending=False)"
   ]
  },
  {
   "cell_type": "code",
   "execution_count": 36,
   "id": "a8ae7be6",
   "metadata": {
    "execution": {
     "iopub.execute_input": "2021-07-25T20:54:09.765718Z",
     "iopub.status.busy": "2021-07-25T20:54:09.765612Z",
     "iopub.status.idle": "2021-07-25T20:54:09.822636Z",
     "shell.execute_reply": "2021-07-25T20:54:09.821840Z",
     "shell.execute_reply.started": "2021-07-25T20:54:09.765705Z"
    },
    "tags": []
   },
   "outputs": [
    {
     "data": {
      "text/plain": [
       "city       923\n",
       "country      1\n",
       "dtype: int64"
      ]
     },
     "execution_count": 36,
     "metadata": {},
     "output_type": "execute_result"
    }
   ],
   "source": [
    "# Count unique values for city and country\n",
    "\n",
    "df_users[['city','country']].nunique()"
   ]
  },
  {
   "cell_type": "code",
   "execution_count": 37,
   "id": "5ae05be9",
   "metadata": {
    "execution": {
     "iopub.execute_input": "2021-07-25T20:54:09.823580Z",
     "iopub.status.busy": "2021-07-25T20:54:09.823344Z",
     "iopub.status.idle": "2021-07-25T20:54:09.831884Z",
     "shell.execute_reply": "2021-07-25T20:54:09.830695Z",
     "shell.execute_reply.started": "2021-07-25T20:54:09.823560Z"
    },
    "tags": []
   },
   "outputs": [
    {
     "data": {
      "text/html": [
       "<div>\n",
       "<style scoped>\n",
       "    .dataframe tbody tr th:only-of-type {\n",
       "        vertical-align: middle;\n",
       "    }\n",
       "\n",
       "    .dataframe tbody tr th {\n",
       "        vertical-align: top;\n",
       "    }\n",
       "\n",
       "    .dataframe thead th {\n",
       "        text-align: right;\n",
       "    }\n",
       "</style>\n",
       "<table border=\"1\" class=\"dataframe\">\n",
       "  <thead>\n",
       "    <tr style=\"text-align: right;\">\n",
       "      <th></th>\n",
       "      <th>user_id</th>\n",
       "      <th>city</th>\n",
       "      <th>country</th>\n",
       "      <th>lat</th>\n",
       "      <th>long</th>\n",
       "    </tr>\n",
       "  </thead>\n",
       "  <tbody>\n",
       "    <tr>\n",
       "      <th>0</th>\n",
       "      <td>510335</td>\n",
       "      <td>Peabody</td>\n",
       "      <td>USA</td>\n",
       "      <td>42.53</td>\n",
       "      <td>-70.97</td>\n",
       "    </tr>\n",
       "    <tr>\n",
       "      <th>1</th>\n",
       "      <td>89568</td>\n",
       "      <td>Reno</td>\n",
       "      <td>USA</td>\n",
       "      <td>39.54</td>\n",
       "      <td>-119.82</td>\n",
       "    </tr>\n",
       "    <tr>\n",
       "      <th>2</th>\n",
       "      <td>434134</td>\n",
       "      <td>Rialto</td>\n",
       "      <td>USA</td>\n",
       "      <td>34.11</td>\n",
       "      <td>-117.39</td>\n",
       "    </tr>\n",
       "    <tr>\n",
       "      <th>3</th>\n",
       "      <td>289769</td>\n",
       "      <td>Carson City</td>\n",
       "      <td>USA</td>\n",
       "      <td>39.15</td>\n",
       "      <td>-119.74</td>\n",
       "    </tr>\n",
       "    <tr>\n",
       "      <th>4</th>\n",
       "      <td>939586</td>\n",
       "      <td>Chicago</td>\n",
       "      <td>USA</td>\n",
       "      <td>41.84</td>\n",
       "      <td>-87.68</td>\n",
       "    </tr>\n",
       "  </tbody>\n",
       "</table>\n",
       "</div>"
      ],
      "text/plain": [
       "   user_id         city country    lat    long\n",
       "0   510335      Peabody     USA  42.53  -70.97\n",
       "1    89568         Reno     USA  39.54 -119.82\n",
       "2   434134       Rialto     USA  34.11 -117.39\n",
       "3   289769  Carson City     USA  39.15 -119.74\n",
       "4   939586      Chicago     USA  41.84  -87.68"
      ]
     },
     "execution_count": 37,
     "metadata": {},
     "output_type": "execute_result"
    }
   ],
   "source": [
    "df_users.head()"
   ]
  },
  {
   "cell_type": "code",
   "execution_count": 38,
   "id": "cace71b0",
   "metadata": {
    "execution": {
     "iopub.execute_input": "2021-07-25T20:54:09.833595Z",
     "iopub.status.busy": "2021-07-25T20:54:09.833471Z",
     "iopub.status.idle": "2021-07-25T20:54:09.848637Z",
     "shell.execute_reply": "2021-07-25T20:54:09.847626Z",
     "shell.execute_reply.started": "2021-07-25T20:54:09.833581Z"
    }
   },
   "outputs": [
    {
     "data": {
      "text/plain": [
       "True"
      ]
     },
     "execution_count": 38,
     "metadata": {},
     "output_type": "execute_result"
    }
   ],
   "source": [
    "# Check for duplicate user ids\n",
    "# This would indicate if we have the same user multiple times\n",
    "# If True, we have all unique ids, if false, there are duplicates\n",
    "\n",
    "df_users['user_id'].nunique() == len(df_users)"
   ]
  },
  {
   "cell_type": "code",
   "execution_count": 39,
   "id": "bba1b994",
   "metadata": {
    "execution": {
     "iopub.execute_input": "2021-07-25T20:54:09.850985Z",
     "iopub.status.busy": "2021-07-25T20:54:09.850839Z",
     "iopub.status.idle": "2021-07-25T20:54:09.878205Z",
     "shell.execute_reply": "2021-07-25T20:54:09.877816Z",
     "shell.execute_reply.started": "2021-07-25T20:54:09.850970Z"
    }
   },
   "outputs": [
    {
     "data": {
      "text/plain": [
       "False"
      ]
     },
     "execution_count": 39,
     "metadata": {},
     "output_type": "execute_result"
    }
   ],
   "source": [
    "# Check if there are differences in number of user ids between test and user df\n",
    "# True indicates same number of users, False indicates different numbers\n",
    "\n",
    "df_test_res['user_id'].nunique() == df_users['user_id'].nunique()"
   ]
  },
  {
   "cell_type": "code",
   "execution_count": 40,
   "id": "52e0de9c",
   "metadata": {
    "execution": {
     "iopub.execute_input": "2021-07-25T20:54:09.878993Z",
     "iopub.status.busy": "2021-07-25T20:54:09.878882Z",
     "iopub.status.idle": "2021-07-25T20:54:09.902819Z",
     "shell.execute_reply": "2021-07-25T20:54:09.902068Z",
     "shell.execute_reply.started": "2021-07-25T20:54:09.878979Z"
    },
    "tags": []
   },
   "outputs": [
    {
     "name": "stdout",
     "output_type": "stream",
     "text": [
      "Test data number of unique users: 316800\n",
      "User data number of unique users: 275616\n"
     ]
    }
   ],
   "source": [
    "# Print number of unique users in both df\n",
    "\n",
    "print(f\"Test data number of unique users: {df_test_res['user_id'].nunique()}\")\n",
    "print(f\"User data number of unique users: {df_users['user_id'].nunique()}\")"
   ]
  },
  {
   "cell_type": "markdown",
   "id": "b7262929",
   "metadata": {},
   "source": [
    "## Export clean dataset"
   ]
  },
  {
   "cell_type": "code",
   "execution_count": 41,
   "id": "7accb054",
   "metadata": {
    "execution": {
     "iopub.execute_input": "2021-07-25T20:54:09.903623Z",
     "iopub.status.busy": "2021-07-25T20:54:09.903514Z",
     "iopub.status.idle": "2021-07-25T20:54:10.050561Z",
     "shell.execute_reply": "2021-07-25T20:54:10.040622Z",
     "shell.execute_reply.started": "2021-07-25T20:54:09.903609Z"
    },
    "tags": []
   },
   "outputs": [],
   "source": [
    "# Inner join test data and user data\n",
    "\n",
    "df_clean = pd.merge(left=df_test_res, right=df_users, on='user_id',\n",
    "                    how='inner')"
   ]
  },
  {
   "cell_type": "code",
   "execution_count": 42,
   "id": "16669c55",
   "metadata": {
    "execution": {
     "iopub.execute_input": "2021-07-25T20:54:10.053575Z",
     "iopub.status.busy": "2021-07-25T20:54:10.053399Z",
     "iopub.status.idle": "2021-07-25T20:54:11.934799Z",
     "shell.execute_reply": "2021-07-25T20:54:11.934471Z",
     "shell.execute_reply.started": "2021-07-25T20:54:10.053561Z"
    },
    "tags": []
   },
   "outputs": [],
   "source": [
    "# Export csv of clean joined data\n",
    "\n",
    "df_clean.to_csv(rpath+'data/clean/data_clean.csv')"
   ]
  },
  {
   "cell_type": "code",
   "execution_count": null,
   "id": "663b0041",
   "metadata": {},
   "outputs": [],
   "source": []
  }
 ],
 "metadata": {
  "kernelspec": {
   "display_name": "Python [conda env:data_chall] *",
   "language": "python",
   "name": "conda-env-data_chall-py"
  },
  "language_info": {
   "codemirror_mode": {
    "name": "ipython",
    "version": 3
   },
   "file_extension": ".py",
   "mimetype": "text/x-python",
   "name": "python",
   "nbconvert_exporter": "python",
   "pygments_lexer": "ipython3",
   "version": "3.8.8"
  }
 },
 "nbformat": 4,
 "nbformat_minor": 5
}
