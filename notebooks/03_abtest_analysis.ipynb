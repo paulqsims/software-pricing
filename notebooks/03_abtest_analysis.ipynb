{
 "cells": [
  {
   "cell_type": "markdown",
   "id": "fe706ad1",
   "metadata": {},
   "source": [
    "# Software Pricing\n",
    "## AB Test and Power Analysis\n",
    "**Paul Sims**"
   ]
  },
  {
   "cell_type": "markdown",
   "id": "15e93941",
   "metadata": {},
   "source": [
    "# Setup"
   ]
  },
  {
   "cell_type": "markdown",
   "id": "1ffc6d7f",
   "metadata": {
    "tags": []
   },
   "source": [
    "## Imports"
   ]
  },
  {
   "cell_type": "code",
   "execution_count": 51,
   "id": "95f6a046",
   "metadata": {
    "execution": {
     "iopub.execute_input": "2021-08-23T23:57:02.677993Z",
     "iopub.status.busy": "2021-08-23T23:57:02.676917Z",
     "iopub.status.idle": "2021-08-23T23:57:02.710649Z",
     "shell.execute_reply": "2021-08-23T23:57:02.710057Z",
     "shell.execute_reply.started": "2021-08-23T23:57:02.677935Z"
    },
    "tags": []
   },
   "outputs": [],
   "source": [
    "# Plotting \n",
    "import matplotlib as mpl\n",
    "import matplotlib.pyplot as plt\n",
    "import matplotlib.dates as mdates\n",
    "from matplotlib.dates import DateFormatter\n",
    "%matplotlib inline\n",
    "%config InlineBackend.figure_format = 'retina'\n",
    "\n",
    "import seaborn as sns\n",
    "sns.set_context(\"poster\")\n",
    "sns.set(rc={'figure.figsize': (16, 9.)})\n",
    "sns.set_style(\"whitegrid\")\n",
    "sns.set(font_scale = 1.5)\n",
    "\n",
    "# Data manipulation\n",
    "import numpy as np\n",
    "import pandas as pd\n",
    "pd.set_option(\"display.max_rows\", None)\n",
    "pd.set_option(\"display.max_columns\", None)\n",
    "\n",
    "from pandas_profiling import ProfileReport\n",
    "\n",
    "# Utility\n",
    "import rootpath as rp\n",
    "\n",
    "# ML and stats\n",
    "\n",
    "from scipy.stats import chi2_contingency, chi2, fisher_exact\n",
    "\n",
    "import statsmodels.api as sm\n",
    "\n",
    "from statsmodels.stats import contingency_tables"
   ]
  },
  {
   "cell_type": "markdown",
   "id": "4bade97f",
   "metadata": {},
   "source": [
    "## Read in data"
   ]
  },
  {
   "cell_type": "code",
   "execution_count": 52,
   "id": "3bacb7f3",
   "metadata": {
    "execution": {
     "iopub.execute_input": "2021-08-23T23:57:02.712183Z",
     "iopub.status.busy": "2021-08-23T23:57:02.712051Z",
     "iopub.status.idle": "2021-08-23T23:57:02.716958Z",
     "shell.execute_reply": "2021-08-23T23:57:02.715715Z",
     "shell.execute_reply.started": "2021-08-23T23:57:02.712169Z"
    },
    "tags": []
   },
   "outputs": [],
   "source": [
    "# Set paths\n",
    "\n",
    "# Root\n",
    "rpath = rp.detect() + '/'\n",
    "\n",
    "# Data directory\n",
    "data_direct = 'data/'"
   ]
  },
  {
   "cell_type": "code",
   "execution_count": 53,
   "id": "1a90e750",
   "metadata": {
    "execution": {
     "iopub.execute_input": "2021-08-23T23:57:02.723266Z",
     "iopub.status.busy": "2021-08-23T23:57:02.722563Z",
     "iopub.status.idle": "2021-08-23T23:57:03.441323Z",
     "shell.execute_reply": "2021-08-23T23:57:03.440855Z",
     "shell.execute_reply.started": "2021-08-23T23:57:02.723216Z"
    },
    "tags": []
   },
   "outputs": [],
   "source": [
    "# Read in data\n",
    "\n",
    "df_clean = pd.read_csv(rpath+data_direct+'clean/'+'data_clean.csv',\n",
    "                          sep=\",\", index_col=0)"
   ]
  },
  {
   "cell_type": "code",
   "execution_count": 54,
   "id": "d821231a",
   "metadata": {
    "execution": {
     "iopub.execute_input": "2021-08-23T23:57:03.442606Z",
     "iopub.status.busy": "2021-08-23T23:57:03.442482Z",
     "iopub.status.idle": "2021-08-23T23:57:03.504903Z",
     "shell.execute_reply": "2021-08-23T23:57:03.504520Z",
     "shell.execute_reply.started": "2021-08-23T23:57:03.442592Z"
    }
   },
   "outputs": [],
   "source": [
    "# Convert timestamp to date time\n",
    "\n",
    "df_clean['timestamp'] = pd.to_datetime(df_clean['timestamp'],\n",
    "                                        errors='coerce')"
   ]
  },
  {
   "cell_type": "code",
   "execution_count": 55,
   "id": "f6687569",
   "metadata": {
    "execution": {
     "iopub.execute_input": "2021-08-23T23:57:03.505616Z",
     "iopub.status.busy": "2021-08-23T23:57:03.505511Z",
     "iopub.status.idle": "2021-08-23T23:57:03.518662Z",
     "shell.execute_reply": "2021-08-23T23:57:03.518083Z",
     "shell.execute_reply.started": "2021-08-23T23:57:03.505603Z"
    }
   },
   "outputs": [
    {
     "data": {
      "text/html": [
       "<div>\n",
       "<style scoped>\n",
       "    .dataframe tbody tr th:only-of-type {\n",
       "        vertical-align: middle;\n",
       "    }\n",
       "\n",
       "    .dataframe tbody tr th {\n",
       "        vertical-align: top;\n",
       "    }\n",
       "\n",
       "    .dataframe thead th {\n",
       "        text-align: right;\n",
       "    }\n",
       "</style>\n",
       "<table border=\"1\" class=\"dataframe\">\n",
       "  <thead>\n",
       "    <tr style=\"text-align: right;\">\n",
       "      <th></th>\n",
       "      <th>user_id</th>\n",
       "      <th>timestamp</th>\n",
       "      <th>source</th>\n",
       "      <th>device</th>\n",
       "      <th>os</th>\n",
       "      <th>test</th>\n",
       "      <th>price</th>\n",
       "      <th>converted</th>\n",
       "      <th>source_type</th>\n",
       "      <th>date</th>\n",
       "      <th>time</th>\n",
       "      <th>city</th>\n",
       "      <th>country</th>\n",
       "      <th>lat</th>\n",
       "      <th>long</th>\n",
       "    </tr>\n",
       "  </thead>\n",
       "  <tbody>\n",
       "    <tr>\n",
       "      <th>0</th>\n",
       "      <td>604839</td>\n",
       "      <td>2015-05-08 03:38:34</td>\n",
       "      <td>facebook</td>\n",
       "      <td>mobile</td>\n",
       "      <td>apple</td>\n",
       "      <td>0</td>\n",
       "      <td>39.0</td>\n",
       "      <td>0</td>\n",
       "      <td>ads</td>\n",
       "      <td>2015-05-08</td>\n",
       "      <td>03:38:34</td>\n",
       "      <td>Buffalo</td>\n",
       "      <td>USA</td>\n",
       "      <td>42.89</td>\n",
       "      <td>-78.86</td>\n",
       "    </tr>\n",
       "    <tr>\n",
       "      <th>1</th>\n",
       "      <td>624057</td>\n",
       "      <td>2015-05-10 21:08:46</td>\n",
       "      <td>google</td>\n",
       "      <td>mobile</td>\n",
       "      <td>android</td>\n",
       "      <td>0</td>\n",
       "      <td>39.0</td>\n",
       "      <td>0</td>\n",
       "      <td>seo</td>\n",
       "      <td>2015-05-10</td>\n",
       "      <td>21:08:46</td>\n",
       "      <td>Lakeville</td>\n",
       "      <td>USA</td>\n",
       "      <td>44.68</td>\n",
       "      <td>-93.24</td>\n",
       "    </tr>\n",
       "    <tr>\n",
       "      <th>2</th>\n",
       "      <td>317970</td>\n",
       "      <td>2015-04-04 15:01:23</td>\n",
       "      <td>bing</td>\n",
       "      <td>mobile</td>\n",
       "      <td>android</td>\n",
       "      <td>0</td>\n",
       "      <td>39.0</td>\n",
       "      <td>0</td>\n",
       "      <td>ads</td>\n",
       "      <td>2015-04-04</td>\n",
       "      <td>15:01:23</td>\n",
       "      <td>Parma</td>\n",
       "      <td>USA</td>\n",
       "      <td>41.38</td>\n",
       "      <td>-81.73</td>\n",
       "    </tr>\n",
       "    <tr>\n",
       "      <th>3</th>\n",
       "      <td>685636</td>\n",
       "      <td>2015-05-07 07:26:01</td>\n",
       "      <td>direct_traffic</td>\n",
       "      <td>mobile</td>\n",
       "      <td>apple</td>\n",
       "      <td>1</td>\n",
       "      <td>59.0</td>\n",
       "      <td>0</td>\n",
       "      <td>direct_traffic</td>\n",
       "      <td>2015-05-07</td>\n",
       "      <td>07:26:01</td>\n",
       "      <td>Fayetteville</td>\n",
       "      <td>USA</td>\n",
       "      <td>35.07</td>\n",
       "      <td>-78.90</td>\n",
       "    </tr>\n",
       "    <tr>\n",
       "      <th>4</th>\n",
       "      <td>820854</td>\n",
       "      <td>2015-05-24 11:04:40</td>\n",
       "      <td>facebook</td>\n",
       "      <td>web</td>\n",
       "      <td>apple</td>\n",
       "      <td>0</td>\n",
       "      <td>39.0</td>\n",
       "      <td>0</td>\n",
       "      <td>ads</td>\n",
       "      <td>2015-05-24</td>\n",
       "      <td>11:04:40</td>\n",
       "      <td>Fishers</td>\n",
       "      <td>USA</td>\n",
       "      <td>39.95</td>\n",
       "      <td>-86.02</td>\n",
       "    </tr>\n",
       "  </tbody>\n",
       "</table>\n",
       "</div>"
      ],
      "text/plain": [
       "   user_id           timestamp          source  device       os  test  price  \\\n",
       "0   604839 2015-05-08 03:38:34        facebook  mobile    apple     0   39.0   \n",
       "1   624057 2015-05-10 21:08:46          google  mobile  android     0   39.0   \n",
       "2   317970 2015-04-04 15:01:23            bing  mobile  android     0   39.0   \n",
       "3   685636 2015-05-07 07:26:01  direct_traffic  mobile    apple     1   59.0   \n",
       "4   820854 2015-05-24 11:04:40        facebook     web    apple     0   39.0   \n",
       "\n",
       "   converted     source_type        date      time          city country  \\\n",
       "0          0             ads  2015-05-08  03:38:34       Buffalo     USA   \n",
       "1          0             seo  2015-05-10  21:08:46     Lakeville     USA   \n",
       "2          0             ads  2015-04-04  15:01:23         Parma     USA   \n",
       "3          0  direct_traffic  2015-05-07  07:26:01  Fayetteville     USA   \n",
       "4          0             ads  2015-05-24  11:04:40       Fishers     USA   \n",
       "\n",
       "     lat   long  \n",
       "0  42.89 -78.86  \n",
       "1  44.68 -93.24  \n",
       "2  41.38 -81.73  \n",
       "3  35.07 -78.90  \n",
       "4  39.95 -86.02  "
      ]
     },
     "execution_count": 55,
     "metadata": {},
     "output_type": "execute_result"
    }
   ],
   "source": [
    "df_clean.head()"
   ]
  },
  {
   "cell_type": "markdown",
   "id": "366b5f5a",
   "metadata": {},
   "source": [
    "# AB Test "
   ]
  },
  {
   "cell_type": "markdown",
   "id": "bbca160e",
   "metadata": {},
   "source": [
    "## Chi Squared Test for independence"
   ]
  },
  {
   "cell_type": "markdown",
   "id": "0d222d0c",
   "metadata": {},
   "source": [
    "- Is there a difference in conversion counts between the two price groups?"
   ]
  },
  {
   "cell_type": "markdown",
   "id": "78fcec0b",
   "metadata": {
    "execution": {
     "iopub.execute_input": "2021-04-21T14:35:38.186661Z",
     "iopub.status.busy": "2021-04-21T14:35:38.182104Z",
     "iopub.status.idle": "2021-04-21T14:35:38.209770Z",
     "shell.execute_reply": "2021-04-21T14:35:38.208011Z",
     "shell.execute_reply.started": "2021-04-21T14:35:38.182649Z"
    }
   },
   "source": [
    "**Calculate the exact numbers of conversions in each test group**"
   ]
  },
  {
   "cell_type": "code",
   "execution_count": 56,
   "id": "bce1a5aa",
   "metadata": {
    "execution": {
     "iopub.execute_input": "2021-08-23T23:57:03.520697Z",
     "iopub.status.busy": "2021-08-23T23:57:03.520336Z",
     "iopub.status.idle": "2021-08-23T23:57:03.546083Z",
     "shell.execute_reply": "2021-08-23T23:57:03.545630Z",
     "shell.execute_reply.started": "2021-08-23T23:57:03.520680Z"
    },
    "tags": []
   },
   "outputs": [],
   "source": [
    "# Count instances of converted/non-converted in each test group  \n",
    "\n",
    "test_cts = (\n",
    "    df_clean.groupby('test')['converted'] \\\n",
    "               .value_counts(normalize=False).to_frame()\n",
    ")"
   ]
  },
  {
   "cell_type": "code",
   "execution_count": 57,
   "id": "c8f4b101",
   "metadata": {
    "execution": {
     "iopub.execute_input": "2021-08-23T23:57:03.547359Z",
     "iopub.status.busy": "2021-08-23T23:57:03.547226Z",
     "iopub.status.idle": "2021-08-23T23:57:03.551530Z",
     "shell.execute_reply": "2021-08-23T23:57:03.551086Z",
     "shell.execute_reply.started": "2021-08-23T23:57:03.547345Z"
    },
    "tags": []
   },
   "outputs": [],
   "source": [
    "# Rename col and flatten df\n",
    "\n",
    "test_cts = (\n",
    "    test_cts.rename(columns={\"converted\": \"counts\"}).reset_index()\n",
    ")"
   ]
  },
  {
   "cell_type": "code",
   "execution_count": 58,
   "id": "b3d24831",
   "metadata": {
    "execution": {
     "iopub.execute_input": "2021-08-23T23:57:03.553075Z",
     "iopub.status.busy": "2021-08-23T23:57:03.552891Z",
     "iopub.status.idle": "2021-08-23T23:57:03.558371Z",
     "shell.execute_reply": "2021-08-23T23:57:03.558046Z",
     "shell.execute_reply.started": "2021-08-23T23:57:03.553060Z"
    },
    "tags": []
   },
   "outputs": [
    {
     "data": {
      "text/html": [
       "<div>\n",
       "<style scoped>\n",
       "    .dataframe tbody tr th:only-of-type {\n",
       "        vertical-align: middle;\n",
       "    }\n",
       "\n",
       "    .dataframe tbody tr th {\n",
       "        vertical-align: top;\n",
       "    }\n",
       "\n",
       "    .dataframe thead th {\n",
       "        text-align: right;\n",
       "    }\n",
       "</style>\n",
       "<table border=\"1\" class=\"dataframe\">\n",
       "  <thead>\n",
       "    <tr style=\"text-align: right;\">\n",
       "      <th></th>\n",
       "      <th>test</th>\n",
       "      <th>converted</th>\n",
       "      <th>counts</th>\n",
       "    </tr>\n",
       "  </thead>\n",
       "  <tbody>\n",
       "    <tr>\n",
       "      <th>0</th>\n",
       "      <td>0</td>\n",
       "      <td>0</td>\n",
       "      <td>172939</td>\n",
       "    </tr>\n",
       "    <tr>\n",
       "      <th>1</th>\n",
       "      <td>0</td>\n",
       "      <td>1</td>\n",
       "      <td>3489</td>\n",
       "    </tr>\n",
       "    <tr>\n",
       "      <th>2</th>\n",
       "      <td>1</td>\n",
       "      <td>0</td>\n",
       "      <td>97658</td>\n",
       "    </tr>\n",
       "    <tr>\n",
       "      <th>3</th>\n",
       "      <td>1</td>\n",
       "      <td>1</td>\n",
       "      <td>1530</td>\n",
       "    </tr>\n",
       "  </tbody>\n",
       "</table>\n",
       "</div>"
      ],
      "text/plain": [
       "   test  converted  counts\n",
       "0     0          0  172939\n",
       "1     0          1    3489\n",
       "2     1          0   97658\n",
       "3     1          1    1530"
      ]
     },
     "execution_count": 58,
     "metadata": {},
     "output_type": "execute_result"
    }
   ],
   "source": [
    "test_cts"
   ]
  },
  {
   "cell_type": "markdown",
   "id": "056d9031",
   "metadata": {},
   "source": [
    "**Calculate the proportion of conversion for each test**"
   ]
  },
  {
   "cell_type": "code",
   "execution_count": 59,
   "id": "566b0d40",
   "metadata": {
    "execution": {
     "iopub.execute_input": "2021-08-23T23:57:03.561245Z",
     "iopub.status.busy": "2021-08-23T23:57:03.561084Z",
     "iopub.status.idle": "2021-08-23T23:57:03.579725Z",
     "shell.execute_reply": "2021-08-23T23:57:03.579371Z",
     "shell.execute_reply.started": "2021-08-23T23:57:03.561230Z"
    },
    "tags": []
   },
   "outputs": [],
   "source": [
    "# Calculate conversion rate in each test group\n",
    "\n",
    "test_prop = (\n",
    "    df_clean.groupby('test')['converted'] \\\n",
    "               .value_counts(normalize=True).to_frame()\n",
    ")"
   ]
  },
  {
   "cell_type": "code",
   "execution_count": 60,
   "id": "f5e18a7e",
   "metadata": {
    "execution": {
     "iopub.execute_input": "2021-08-23T23:57:03.581402Z",
     "iopub.status.busy": "2021-08-23T23:57:03.581290Z",
     "iopub.status.idle": "2021-08-23T23:57:03.584700Z",
     "shell.execute_reply": "2021-08-23T23:57:03.584272Z",
     "shell.execute_reply.started": "2021-08-23T23:57:03.581388Z"
    },
    "tags": []
   },
   "outputs": [],
   "source": [
    "# Reset index and rename converted column\n",
    "\n",
    "test_prop = (\n",
    "    test_prop.rename(columns={\"converted\": \"convert_rate\"}).reset_index()\n",
    ")"
   ]
  },
  {
   "cell_type": "code",
   "execution_count": 61,
   "id": "aff1d5e3",
   "metadata": {
    "execution": {
     "iopub.execute_input": "2021-08-23T23:57:03.585509Z",
     "iopub.status.busy": "2021-08-23T23:57:03.585401Z",
     "iopub.status.idle": "2021-08-23T23:57:03.589971Z",
     "shell.execute_reply": "2021-08-23T23:57:03.589643Z",
     "shell.execute_reply.started": "2021-08-23T23:57:03.585495Z"
    },
    "tags": []
   },
   "outputs": [
    {
     "data": {
      "text/html": [
       "<div>\n",
       "<style scoped>\n",
       "    .dataframe tbody tr th:only-of-type {\n",
       "        vertical-align: middle;\n",
       "    }\n",
       "\n",
       "    .dataframe tbody tr th {\n",
       "        vertical-align: top;\n",
       "    }\n",
       "\n",
       "    .dataframe thead th {\n",
       "        text-align: right;\n",
       "    }\n",
       "</style>\n",
       "<table border=\"1\" class=\"dataframe\">\n",
       "  <thead>\n",
       "    <tr style=\"text-align: right;\">\n",
       "      <th></th>\n",
       "      <th>test</th>\n",
       "      <th>converted</th>\n",
       "      <th>convert_rate</th>\n",
       "    </tr>\n",
       "  </thead>\n",
       "  <tbody>\n",
       "    <tr>\n",
       "      <th>0</th>\n",
       "      <td>0</td>\n",
       "      <td>0</td>\n",
       "      <td>0.980224</td>\n",
       "    </tr>\n",
       "    <tr>\n",
       "      <th>1</th>\n",
       "      <td>0</td>\n",
       "      <td>1</td>\n",
       "      <td>0.019776</td>\n",
       "    </tr>\n",
       "    <tr>\n",
       "      <th>2</th>\n",
       "      <td>1</td>\n",
       "      <td>0</td>\n",
       "      <td>0.984575</td>\n",
       "    </tr>\n",
       "    <tr>\n",
       "      <th>3</th>\n",
       "      <td>1</td>\n",
       "      <td>1</td>\n",
       "      <td>0.015425</td>\n",
       "    </tr>\n",
       "  </tbody>\n",
       "</table>\n",
       "</div>"
      ],
      "text/plain": [
       "   test  converted  convert_rate\n",
       "0     0          0      0.980224\n",
       "1     0          1      0.019776\n",
       "2     1          0      0.984575\n",
       "3     1          1      0.015425"
      ]
     },
     "execution_count": 61,
     "metadata": {},
     "output_type": "execute_result"
    }
   ],
   "source": [
    "test_prop"
   ]
  },
  {
   "cell_type": "code",
   "execution_count": 62,
   "id": "6723bb93",
   "metadata": {
    "execution": {
     "iopub.execute_input": "2021-08-23T23:57:03.590701Z",
     "iopub.status.busy": "2021-08-23T23:57:03.590600Z",
     "iopub.status.idle": "2021-08-23T23:57:03.594668Z",
     "shell.execute_reply": "2021-08-23T23:57:03.594286Z",
     "shell.execute_reply.started": "2021-08-23T23:57:03.590687Z"
    },
    "tags": []
   },
   "outputs": [
    {
     "name": "stdout",
     "output_type": "stream",
     "text": [
      "Conversion rate difference = 0.004350519498304466\n"
     ]
    }
   ],
   "source": [
    "# Calculate the difference in conversion rate between the $39 and $59\n",
    "\n",
    "prop_diff = (\n",
    "    test_prop.iloc[1]['convert_rate'] - test_prop.iloc[3]['convert_rate']\n",
    ")\n",
    "\n",
    "print(f\"Conversion rate difference = {prop_diff}\")"
   ]
  },
  {
   "cell_type": "markdown",
   "id": "aa7e34bc",
   "metadata": {},
   "source": [
    "- This means the cheaper pricing group $39 has a higher conversion rate\n",
    "- However, the difference is quite small so might be hard to interpret meaningfully\n",
    "    - See risk ratio calculations further on as an alternative"
   ]
  },
  {
   "cell_type": "code",
   "execution_count": 63,
   "id": "b73d15df",
   "metadata": {
    "execution": {
     "iopub.execute_input": "2021-08-23T23:57:03.595483Z",
     "iopub.status.busy": "2021-08-23T23:57:03.595318Z",
     "iopub.status.idle": "2021-08-23T23:57:03.597345Z",
     "shell.execute_reply": "2021-08-23T23:57:03.596996Z",
     "shell.execute_reply.started": "2021-08-23T23:57:03.595469Z"
    },
    "tags": []
   },
   "outputs": [],
   "source": [
    "from statsmodels.stats.proportion import confint_proportions_2indep"
   ]
  },
  {
   "cell_type": "code",
   "execution_count": 64,
   "id": "10d59d89",
   "metadata": {
    "execution": {
     "iopub.execute_input": "2021-08-23T23:57:03.598047Z",
     "iopub.status.busy": "2021-08-23T23:57:03.597942Z",
     "iopub.status.idle": "2021-08-23T23:57:03.601942Z",
     "shell.execute_reply": "2021-08-23T23:57:03.601579Z",
     "shell.execute_reply.started": "2021-08-23T23:57:03.598033Z"
    },
    "tags": []
   },
   "outputs": [],
   "source": [
    "# Create variables for counts of conversions and total observations \n",
    "\n",
    "count1 = test_cts.iloc[1]['counts']\n",
    "nobs1 = test_cts.iloc[0]['counts'] + test_cts.iloc[1]['counts']\n",
    "count2 = test_cts.iloc[3]['counts']\n",
    "nobs2 = test_cts.iloc[2]['counts'] + test_cts.iloc[3]['counts']"
   ]
  },
  {
   "cell_type": "code",
   "execution_count": 65,
   "id": "f9709c62",
   "metadata": {
    "execution": {
     "iopub.execute_input": "2021-08-23T23:57:03.602664Z",
     "iopub.status.busy": "2021-08-23T23:57:03.602559Z",
     "iopub.status.idle": "2021-08-23T23:57:03.606202Z",
     "shell.execute_reply": "2021-08-23T23:57:03.605845Z",
     "shell.execute_reply.started": "2021-08-23T23:57:03.602651Z"
    },
    "tags": []
   },
   "outputs": [
    {
     "data": {
      "text/plain": [
       "(0.003337425022623355, 0.005348491809898075)"
      ]
     },
     "execution_count": 65,
     "metadata": {},
     "output_type": "execute_result"
    }
   ],
   "source": [
    "# Calculate 95% confidence interval for conversion rate difference \n",
    "\n",
    "convert_diff_ci = confint_proportions_2indep(count1, nobs1, count2, nobs2, \n",
    "                                       method='newcomb', compare='diff')\n",
    "\n",
    "convert_diff_ci"
   ]
  },
  {
   "cell_type": "code",
   "execution_count": 66,
   "id": "a3263ca4",
   "metadata": {
    "execution": {
     "iopub.execute_input": "2021-08-23T23:57:03.606907Z",
     "iopub.status.busy": "2021-08-23T23:57:03.606810Z",
     "iopub.status.idle": "2021-08-23T23:57:03.617812Z",
     "shell.execute_reply": "2021-08-23T23:57:03.617353Z",
     "shell.execute_reply.started": "2021-08-23T23:57:03.606894Z"
    },
    "tags": []
   },
   "outputs": [],
   "source": [
    "# Convert conversion data from long to contingency table and to a numpy array \n",
    "# note the reindex which orders the columns correctly for calculating the \n",
    "# risk ratio later\n",
    "\n",
    "ct_freq = (\n",
    "    test_cts.pivot_table(index=\"test\", \n",
    "                         columns='converted', \n",
    "                         values='counts') \\\n",
    "            .reindex([1,0], axis=1).to_numpy()\n",
    ")"
   ]
  },
  {
   "cell_type": "code",
   "execution_count": 67,
   "id": "47ffff95",
   "metadata": {
    "execution": {
     "iopub.execute_input": "2021-08-23T23:57:03.619377Z",
     "iopub.status.busy": "2021-08-23T23:57:03.618683Z",
     "iopub.status.idle": "2021-08-23T23:57:03.622715Z",
     "shell.execute_reply": "2021-08-23T23:57:03.622318Z",
     "shell.execute_reply.started": "2021-08-23T23:57:03.619346Z"
    },
    "tags": []
   },
   "outputs": [
    {
     "data": {
      "text/plain": [
       "array([[  3489, 172939],\n",
       "       [  1530,  97658]])"
      ]
     },
     "execution_count": 67,
     "metadata": {},
     "output_type": "execute_result"
    }
   ],
   "source": [
    "ct_freq"
   ]
  },
  {
   "cell_type": "code",
   "execution_count": 68,
   "id": "b71e94f3",
   "metadata": {
    "execution": {
     "iopub.execute_input": "2021-08-23T23:57:03.623561Z",
     "iopub.status.busy": "2021-08-23T23:57:03.623445Z",
     "iopub.status.idle": "2021-08-23T23:57:03.626998Z",
     "shell.execute_reply": "2021-08-23T23:57:03.626646Z",
     "shell.execute_reply.started": "2021-08-23T23:57:03.623547Z"
    },
    "tags": []
   },
   "outputs": [
    {
     "name": "stdout",
     "output_type": "stream",
     "text": [
      "Conversion counts by test condition\n",
      "Columns are (left to right) converted and non-converted counts\n",
      "Rows are test condition price $39, price $59\n"
     ]
    },
    {
     "data": {
      "text/plain": [
       "array([[  3489, 172939],\n",
       "       [  1530,  97658]])"
      ]
     },
     "execution_count": 68,
     "metadata": {},
     "output_type": "execute_result"
    }
   ],
   "source": [
    "# Print contingency table \n",
    "\n",
    "print('Conversion counts by test condition')\n",
    "print('Columns are (left to right) converted and non-converted counts')\n",
    "print('Rows are test condition price $39, price $59')\n",
    "\n",
    "ct_freq"
   ]
  },
  {
   "cell_type": "code",
   "execution_count": 69,
   "id": "7532ba0d",
   "metadata": {
    "execution": {
     "iopub.execute_input": "2021-08-23T23:57:03.627717Z",
     "iopub.status.busy": "2021-08-23T23:57:03.627611Z",
     "iopub.status.idle": "2021-08-23T23:57:03.631932Z",
     "shell.execute_reply": "2021-08-23T23:57:03.631572Z",
     "shell.execute_reply.started": "2021-08-23T23:57:03.627704Z"
    },
    "tags": []
   },
   "outputs": [
    {
     "name": "stdout",
     "output_type": "stream",
     "text": [
      "P-value =  0.0\n",
      "chi statistic = 66.972955, critical value = 3.841459\n",
      "\n"
     ]
    }
   ],
   "source": [
    "# Run Chi-Squared test of independence\n",
    "# Assesses whether the conversion rate is signficantly different from chance\n",
    "\n",
    "chi, pval, dof, exp = chi2_contingency(ct_freq)\n",
    "print('P-value = ', round(pval,5))\n",
    "\n",
    "alpha = 0.05\n",
    "p = 1 - alpha\n",
    "critical_value = chi2.ppf(p, dof)\n",
    "\n",
    "print('chi statistic = %.6f, critical value = %.6f\\n' % (chi, critical_value))"
   ]
  },
  {
   "cell_type": "markdown",
   "id": "e6fc64d1",
   "metadata": {},
   "source": [
    "**Interpretation**\n",
    "- Chi-squared test is significant, indicating that the conversion rate significantly differs between the two test groups\n",
    "- Need to follow up with an effect size statistic to understand the direction and size of the difference in conversion rate"
   ]
  },
  {
   "cell_type": "code",
   "execution_count": 70,
   "id": "b77260f5",
   "metadata": {
    "execution": {
     "iopub.execute_input": "2021-08-23T23:57:03.632854Z",
     "iopub.status.busy": "2021-08-23T23:57:03.632690Z",
     "iopub.status.idle": "2021-08-23T23:57:03.634788Z",
     "shell.execute_reply": "2021-08-23T23:57:03.634460Z",
     "shell.execute_reply.started": "2021-08-23T23:57:03.632838Z"
    },
    "tags": []
   },
   "outputs": [],
   "source": [
    "from statsmodels.stats.contingency_tables import Table2x2"
   ]
  },
  {
   "cell_type": "code",
   "execution_count": 71,
   "id": "e755aa80",
   "metadata": {
    "execution": {
     "iopub.execute_input": "2021-08-23T23:57:03.635481Z",
     "iopub.status.busy": "2021-08-23T23:57:03.635381Z",
     "iopub.status.idle": "2021-08-23T23:57:03.637420Z",
     "shell.execute_reply": "2021-08-23T23:57:03.637092Z",
     "shell.execute_reply.started": "2021-08-23T23:57:03.635468Z"
    },
    "tags": []
   },
   "outputs": [],
   "source": [
    "# Create instance of a Table2x2 from stats_models\n",
    "\n",
    "ct_tab = Table2x2(ct_freq)"
   ]
  },
  {
   "cell_type": "code",
   "execution_count": 72,
   "id": "e8931620",
   "metadata": {
    "execution": {
     "iopub.execute_input": "2021-08-23T23:57:03.638222Z",
     "iopub.status.busy": "2021-08-23T23:57:03.638119Z",
     "iopub.status.idle": "2021-08-23T23:57:03.644251Z",
     "shell.execute_reply": "2021-08-23T23:57:03.643642Z",
     "shell.execute_reply.started": "2021-08-23T23:57:03.638209Z"
    },
    "tags": []
   },
   "outputs": [
    {
     "data": {
      "text/html": [
       "<table class=\"simpletable\">\n",
       "<tr>\n",
       "         <td></td>        <th>Estimate</th>  <th>SE</th>    <th>LCB</th>   <th>UCB</th>  <th>p-value</th>\n",
       "</tr>\n",
       "<tr>\n",
       "  <th>Odds ratio</th>        <td>1.288</td>      <td></td> <td>1.212</td> <td>1.368</td>   <td>0.000</td>\n",
       "</tr>\n",
       "<tr>\n",
       "  <th>Log odds ratio</th>    <td>0.253</td> <td>0.031</td> <td>0.192</td> <td>0.313</td>   <td>0.000</td>\n",
       "</tr>\n",
       "<tr>\n",
       "  <th>Risk ratio</th>        <td>1.282</td>      <td></td> <td>1.208</td> <td>1.361</td>   <td>0.000</td>\n",
       "</tr>\n",
       "<tr>\n",
       "  <th>Log risk ratio</th>    <td>0.248</td> <td>0.030</td> <td>0.189</td> <td>0.308</td>   <td>0.000</td>\n",
       "</tr>\n",
       "</table>"
      ],
      "text/plain": [
       "<class 'statsmodels.iolib.table.SimpleTable'>"
      ]
     },
     "execution_count": 72,
     "metadata": {},
     "output_type": "execute_result"
    }
   ],
   "source": [
    "# Create summary of comparison methods\n",
    "\n",
    "ct_tab.summary()"
   ]
  },
  {
   "cell_type": "code",
   "execution_count": 73,
   "id": "29cbcf14",
   "metadata": {
    "execution": {
     "iopub.execute_input": "2021-08-23T23:57:03.646402Z",
     "iopub.status.busy": "2021-08-23T23:57:03.646160Z",
     "iopub.status.idle": "2021-08-23T23:57:03.649050Z",
     "shell.execute_reply": "2021-08-23T23:57:03.648661Z",
     "shell.execute_reply.started": "2021-08-23T23:57:03.646388Z"
    },
    "tags": []
   },
   "outputs": [
    {
     "data": {
      "text/plain": [
       "1.2820387764691656"
      ]
     },
     "execution_count": 73,
     "metadata": {},
     "output_type": "execute_result"
    }
   ],
   "source": [
    "# Calculate the Risk Ratio (RR) For conversion\n",
    "\n",
    "rr_tab = ct_tab.riskratio\n",
    "rr_tab"
   ]
  },
  {
   "cell_type": "code",
   "execution_count": 74,
   "id": "1547de2b",
   "metadata": {
    "execution": {
     "iopub.execute_input": "2021-08-23T23:57:03.649830Z",
     "iopub.status.busy": "2021-08-23T23:57:03.649663Z",
     "iopub.status.idle": "2021-08-23T23:57:03.652575Z",
     "shell.execute_reply": "2021-08-23T23:57:03.652176Z",
     "shell.execute_reply.started": "2021-08-23T23:57:03.649816Z"
    },
    "tags": []
   },
   "outputs": [
    {
     "data": {
      "text/plain": [
       "(1.2078706685903848, 1.3607611039091665)"
      ]
     },
     "execution_count": 74,
     "metadata": {},
     "output_type": "execute_result"
    }
   ],
   "source": [
    "# Calculate the Risk Ratio (RR) confidence interval\n",
    "\n",
    "ct_tab.riskratio_confint(0.05)"
   ]
  },
  {
   "cell_type": "markdown",
   "id": "70dedb4c",
   "metadata": {},
   "source": [
    "**Interpretation**\n",
    "- The relative risk of conversion in the \\(\\\\$39\\) group is 1.28 \\(95\\% C.I.: 1.21-1.36\\) times that of the \\(\\\\$59\\) group\n",
    "- Alternatively, there is a 28% conversion lift in the (\\\\$39) group compared to the (\\\\$59) group\n",
    "- But how do these conversion rates influence total revenue estimates from both price groups, assuming equal sample sizes?"
   ]
  },
  {
   "cell_type": "markdown",
   "id": "1e6c0585",
   "metadata": {},
   "source": [
    "## Compare AB test results on revenue and conversions"
   ]
  },
  {
   "cell_type": "code",
   "execution_count": 75,
   "id": "b2110407",
   "metadata": {
    "execution": {
     "iopub.execute_input": "2021-08-23T23:57:03.653641Z",
     "iopub.status.busy": "2021-08-23T23:57:03.653346Z",
     "iopub.status.idle": "2021-08-23T23:57:03.656664Z",
     "shell.execute_reply": "2021-08-23T23:57:03.656241Z",
     "shell.execute_reply.started": "2021-08-23T23:57:03.653623Z"
    },
    "tags": []
   },
   "outputs": [],
   "source": [
    "# extract conversion rates for each test\n",
    "\n",
    "df_conver_rate = test_prop.loc[test_prop['converted']==1]"
   ]
  },
  {
   "cell_type": "code",
   "execution_count": 76,
   "id": "97fa745f",
   "metadata": {
    "execution": {
     "iopub.execute_input": "2021-08-23T23:57:03.657436Z",
     "iopub.status.busy": "2021-08-23T23:57:03.657335Z",
     "iopub.status.idle": "2021-08-23T23:57:03.661824Z",
     "shell.execute_reply": "2021-08-23T23:57:03.661462Z",
     "shell.execute_reply.started": "2021-08-23T23:57:03.657423Z"
    }
   },
   "outputs": [
    {
     "data": {
      "text/html": [
       "<div>\n",
       "<style scoped>\n",
       "    .dataframe tbody tr th:only-of-type {\n",
       "        vertical-align: middle;\n",
       "    }\n",
       "\n",
       "    .dataframe tbody tr th {\n",
       "        vertical-align: top;\n",
       "    }\n",
       "\n",
       "    .dataframe thead th {\n",
       "        text-align: right;\n",
       "    }\n",
       "</style>\n",
       "<table border=\"1\" class=\"dataframe\">\n",
       "  <thead>\n",
       "    <tr style=\"text-align: right;\">\n",
       "      <th></th>\n",
       "      <th>test</th>\n",
       "      <th>converted</th>\n",
       "      <th>counts</th>\n",
       "    </tr>\n",
       "  </thead>\n",
       "  <tbody>\n",
       "    <tr>\n",
       "      <th>0</th>\n",
       "      <td>0</td>\n",
       "      <td>0</td>\n",
       "      <td>172939</td>\n",
       "    </tr>\n",
       "    <tr>\n",
       "      <th>1</th>\n",
       "      <td>0</td>\n",
       "      <td>1</td>\n",
       "      <td>3489</td>\n",
       "    </tr>\n",
       "    <tr>\n",
       "      <th>2</th>\n",
       "      <td>1</td>\n",
       "      <td>0</td>\n",
       "      <td>97658</td>\n",
       "    </tr>\n",
       "    <tr>\n",
       "      <th>3</th>\n",
       "      <td>1</td>\n",
       "      <td>1</td>\n",
       "      <td>1530</td>\n",
       "    </tr>\n",
       "  </tbody>\n",
       "</table>\n",
       "</div>"
      ],
      "text/plain": [
       "   test  converted  counts\n",
       "0     0          0  172939\n",
       "1     0          1    3489\n",
       "2     1          0   97658\n",
       "3     1          1    1530"
      ]
     },
     "execution_count": 76,
     "metadata": {},
     "output_type": "execute_result"
    }
   ],
   "source": [
    "test_cts"
   ]
  },
  {
   "cell_type": "code",
   "execution_count": 77,
   "id": "2fc5329b",
   "metadata": {
    "execution": {
     "iopub.execute_input": "2021-08-23T23:57:03.666471Z",
     "iopub.status.busy": "2021-08-23T23:57:03.666305Z",
     "iopub.status.idle": "2021-08-23T23:57:03.669629Z",
     "shell.execute_reply": "2021-08-23T23:57:03.669238Z",
     "shell.execute_reply.started": "2021-08-23T23:57:03.666453Z"
    },
    "tags": []
   },
   "outputs": [
    {
     "data": {
      "text/plain": [
       "176428"
      ]
     },
     "execution_count": 77,
     "metadata": {},
     "output_type": "execute_result"
    }
   ],
   "source": [
    "# Sample size for test group 1 ($39 pricing)\n",
    "\n",
    "test_cts.iloc[:2,2].sum()"
   ]
  },
  {
   "cell_type": "code",
   "execution_count": 78,
   "id": "9a6e74d9",
   "metadata": {
    "execution": {
     "iopub.execute_input": "2021-08-23T23:57:03.671814Z",
     "iopub.status.busy": "2021-08-23T23:57:03.671699Z",
     "iopub.status.idle": "2021-08-23T23:57:03.674999Z",
     "shell.execute_reply": "2021-08-23T23:57:03.674583Z",
     "shell.execute_reply.started": "2021-08-23T23:57:03.671801Z"
    },
    "tags": []
   },
   "outputs": [
    {
     "data": {
      "text/plain": [
       "99188"
      ]
     },
     "execution_count": 78,
     "metadata": {},
     "output_type": "execute_result"
    }
   ],
   "source": [
    "# Sample size for test group 2 ($59 pricing)\n",
    "\n",
    "test_cts.iloc[2:4,2].sum()"
   ]
  },
  {
   "cell_type": "code",
   "execution_count": 79,
   "id": "8b9dc806",
   "metadata": {
    "execution": {
     "iopub.execute_input": "2021-08-23T23:57:03.675791Z",
     "iopub.status.busy": "2021-08-23T23:57:03.675689Z",
     "iopub.status.idle": "2021-08-23T23:57:03.678436Z",
     "shell.execute_reply": "2021-08-23T23:57:03.678088Z",
     "shell.execute_reply.started": "2021-08-23T23:57:03.675778Z"
    },
    "tags": []
   },
   "outputs": [],
   "source": [
    "# Extract conversion counts for each test group\n",
    "\n",
    "df_counts = test_cts.loc[test_cts['converted']==1].copy()"
   ]
  },
  {
   "cell_type": "code",
   "execution_count": 80,
   "id": "4f92837b",
   "metadata": {
    "execution": {
     "iopub.execute_input": "2021-08-23T23:57:03.679179Z",
     "iopub.status.busy": "2021-08-23T23:57:03.679087Z",
     "iopub.status.idle": "2021-08-23T23:57:03.683342Z",
     "shell.execute_reply": "2021-08-23T23:57:03.682991Z",
     "shell.execute_reply.started": "2021-08-23T23:57:03.679167Z"
    },
    "tags": []
   },
   "outputs": [
    {
     "data": {
      "text/html": [
       "<div>\n",
       "<style scoped>\n",
       "    .dataframe tbody tr th:only-of-type {\n",
       "        vertical-align: middle;\n",
       "    }\n",
       "\n",
       "    .dataframe tbody tr th {\n",
       "        vertical-align: top;\n",
       "    }\n",
       "\n",
       "    .dataframe thead th {\n",
       "        text-align: right;\n",
       "    }\n",
       "</style>\n",
       "<table border=\"1\" class=\"dataframe\">\n",
       "  <thead>\n",
       "    <tr style=\"text-align: right;\">\n",
       "      <th></th>\n",
       "      <th>test</th>\n",
       "      <th>converted</th>\n",
       "      <th>counts</th>\n",
       "    </tr>\n",
       "  </thead>\n",
       "  <tbody>\n",
       "    <tr>\n",
       "      <th>1</th>\n",
       "      <td>0</td>\n",
       "      <td>1</td>\n",
       "      <td>3489</td>\n",
       "    </tr>\n",
       "    <tr>\n",
       "      <th>3</th>\n",
       "      <td>1</td>\n",
       "      <td>1</td>\n",
       "      <td>1530</td>\n",
       "    </tr>\n",
       "  </tbody>\n",
       "</table>\n",
       "</div>"
      ],
      "text/plain": [
       "   test  converted  counts\n",
       "1     0          1    3489\n",
       "3     1          1    1530"
      ]
     },
     "execution_count": 80,
     "metadata": {},
     "output_type": "execute_result"
    }
   ],
   "source": [
    "df_counts"
   ]
  },
  {
   "cell_type": "code",
   "execution_count": 81,
   "id": "051c7c80",
   "metadata": {
    "execution": {
     "iopub.execute_input": "2021-08-23T23:57:03.684183Z",
     "iopub.status.busy": "2021-08-23T23:57:03.684080Z",
     "iopub.status.idle": "2021-08-23T23:57:03.686646Z",
     "shell.execute_reply": "2021-08-23T23:57:03.686289Z",
     "shell.execute_reply.started": "2021-08-23T23:57:03.684171Z"
    },
    "tags": []
   },
   "outputs": [],
   "source": [
    "# Add proportions to counts\n",
    "\n",
    "df_counts['convert_rate'] = df_conver_rate['convert_rate']"
   ]
  },
  {
   "cell_type": "code",
   "execution_count": 82,
   "id": "2399ee79",
   "metadata": {
    "execution": {
     "iopub.execute_input": "2021-08-23T23:57:03.687287Z",
     "iopub.status.busy": "2021-08-23T23:57:03.687197Z",
     "iopub.status.idle": "2021-08-23T23:57:03.691245Z",
     "shell.execute_reply": "2021-08-23T23:57:03.689803Z",
     "shell.execute_reply.started": "2021-08-23T23:57:03.687275Z"
    },
    "tags": []
   },
   "outputs": [],
   "source": [
    "# Create new table with revenue added\n",
    "\n",
    "df_rev = df_counts.copy().reset_index(drop=True)"
   ]
  },
  {
   "cell_type": "code",
   "execution_count": 83,
   "id": "b87f633c",
   "metadata": {
    "execution": {
     "iopub.execute_input": "2021-08-23T23:57:03.692942Z",
     "iopub.status.busy": "2021-08-23T23:57:03.692435Z",
     "iopub.status.idle": "2021-08-23T23:57:03.697190Z",
     "shell.execute_reply": "2021-08-23T23:57:03.696849Z",
     "shell.execute_reply.started": "2021-08-23T23:57:03.692919Z"
    },
    "tags": []
   },
   "outputs": [],
   "source": [
    "# Create label for test group\n",
    "\n",
    "# Create categorical version for plotting\n",
    "df_rev['test_group'] = np.where(df_rev['test']==0, '$39', '$59')\n",
    "# Create numeric version for calcs\n",
    "df_rev['test_group_num'] = np.where(df_rev['test']==0, 39, 59)"
   ]
  },
  {
   "cell_type": "code",
   "execution_count": 84,
   "id": "902b0989",
   "metadata": {
    "execution": {
     "iopub.execute_input": "2021-08-23T23:57:03.697922Z",
     "iopub.status.busy": "2021-08-23T23:57:03.697826Z",
     "iopub.status.idle": "2021-08-23T23:57:03.700754Z",
     "shell.execute_reply": "2021-08-23T23:57:03.700406Z",
     "shell.execute_reply.started": "2021-08-23T23:57:03.697909Z"
    }
   },
   "outputs": [],
   "source": [
    "# Calculate total revenue for both groups\n",
    "\n",
    "df_rev['total_revenue'] = df_rev['counts'] * df_rev['test_group_num']"
   ]
  },
  {
   "cell_type": "code",
   "execution_count": 85,
   "id": "97a0208d",
   "metadata": {
    "execution": {
     "iopub.execute_input": "2021-08-23T23:57:03.701494Z",
     "iopub.status.busy": "2021-08-23T23:57:03.701387Z",
     "iopub.status.idle": "2021-08-23T23:57:03.704382Z",
     "shell.execute_reply": "2021-08-23T23:57:03.704032Z",
     "shell.execute_reply.started": "2021-08-23T23:57:03.701481Z"
    }
   },
   "outputs": [],
   "source": [
    "# Calculate mean revenue for both groups\n",
    "\n",
    "df_rev['total_revenue_avg'] = df_rev['total_revenue']/df_rev['counts']"
   ]
  },
  {
   "cell_type": "code",
   "execution_count": 86,
   "id": "357e61e4",
   "metadata": {
    "execution": {
     "iopub.execute_input": "2021-08-23T23:57:03.705036Z",
     "iopub.status.busy": "2021-08-23T23:57:03.704936Z",
     "iopub.status.idle": "2021-08-23T23:57:03.711635Z",
     "shell.execute_reply": "2021-08-23T23:57:03.711171Z",
     "shell.execute_reply.started": "2021-08-23T23:57:03.705022Z"
    },
    "tags": []
   },
   "outputs": [
    {
     "data": {
      "text/html": [
       "<div>\n",
       "<style scoped>\n",
       "    .dataframe tbody tr th:only-of-type {\n",
       "        vertical-align: middle;\n",
       "    }\n",
       "\n",
       "    .dataframe tbody tr th {\n",
       "        vertical-align: top;\n",
       "    }\n",
       "\n",
       "    .dataframe thead th {\n",
       "        text-align: right;\n",
       "    }\n",
       "</style>\n",
       "<table border=\"1\" class=\"dataframe\">\n",
       "  <thead>\n",
       "    <tr style=\"text-align: right;\">\n",
       "      <th></th>\n",
       "      <th>test</th>\n",
       "      <th>converted</th>\n",
       "      <th>counts</th>\n",
       "      <th>convert_rate</th>\n",
       "      <th>test_group</th>\n",
       "      <th>test_group_num</th>\n",
       "      <th>total_revenue</th>\n",
       "      <th>total_revenue_avg</th>\n",
       "    </tr>\n",
       "  </thead>\n",
       "  <tbody>\n",
       "    <tr>\n",
       "      <th>0</th>\n",
       "      <td>0</td>\n",
       "      <td>1</td>\n",
       "      <td>3489</td>\n",
       "      <td>0.019776</td>\n",
       "      <td>$39</td>\n",
       "      <td>39</td>\n",
       "      <td>136071</td>\n",
       "      <td>39.0</td>\n",
       "    </tr>\n",
       "    <tr>\n",
       "      <th>1</th>\n",
       "      <td>1</td>\n",
       "      <td>1</td>\n",
       "      <td>1530</td>\n",
       "      <td>0.015425</td>\n",
       "      <td>$59</td>\n",
       "      <td>59</td>\n",
       "      <td>90270</td>\n",
       "      <td>59.0</td>\n",
       "    </tr>\n",
       "  </tbody>\n",
       "</table>\n",
       "</div>"
      ],
      "text/plain": [
       "   test  converted  counts  convert_rate test_group  test_group_num  \\\n",
       "0     0          1    3489      0.019776        $39              39   \n",
       "1     1          1    1530      0.015425        $59              59   \n",
       "\n",
       "   total_revenue  total_revenue_avg  \n",
       "0         136071               39.0  \n",
       "1          90270               59.0  "
      ]
     },
     "execution_count": 86,
     "metadata": {},
     "output_type": "execute_result"
    }
   ],
   "source": [
    "df_rev"
   ]
  },
  {
   "cell_type": "markdown",
   "id": "817e5ca5",
   "metadata": {},
   "source": [
    "- So even though the lower priced variant sells for less, because it sells for more units, it ultimately generates more revenue in the total revenue earned\n",
    "- For this to profitable, it assumes that costs, such as the cost of producing greater numbers of units, is less than the revenue generated "
   ]
  },
  {
   "cell_type": "code",
   "execution_count": 87,
   "id": "7f99e707",
   "metadata": {
    "execution": {
     "iopub.execute_input": "2021-08-23T23:57:03.712450Z",
     "iopub.status.busy": "2021-08-23T23:57:03.712339Z",
     "iopub.status.idle": "2021-08-23T23:57:03.722511Z",
     "shell.execute_reply": "2021-08-23T23:57:03.722052Z",
     "shell.execute_reply.started": "2021-08-23T23:57:03.712437Z"
    }
   },
   "outputs": [
    {
     "data": {
      "text/html": [
       "<div>\n",
       "<style scoped>\n",
       "    .dataframe tbody tr th:only-of-type {\n",
       "        vertical-align: middle;\n",
       "    }\n",
       "\n",
       "    .dataframe tbody tr th {\n",
       "        vertical-align: top;\n",
       "    }\n",
       "\n",
       "    .dataframe thead th {\n",
       "        text-align: right;\n",
       "    }\n",
       "</style>\n",
       "<table border=\"1\" class=\"dataframe\">\n",
       "  <thead>\n",
       "    <tr style=\"text-align: right;\">\n",
       "      <th></th>\n",
       "      <th>user_id</th>\n",
       "      <th>timestamp</th>\n",
       "      <th>source</th>\n",
       "      <th>device</th>\n",
       "      <th>os</th>\n",
       "      <th>test</th>\n",
       "      <th>price</th>\n",
       "      <th>converted</th>\n",
       "      <th>source_type</th>\n",
       "      <th>date</th>\n",
       "      <th>time</th>\n",
       "      <th>city</th>\n",
       "      <th>country</th>\n",
       "      <th>lat</th>\n",
       "      <th>long</th>\n",
       "    </tr>\n",
       "  </thead>\n",
       "  <tbody>\n",
       "    <tr>\n",
       "      <th>0</th>\n",
       "      <td>604839</td>\n",
       "      <td>2015-05-08 03:38:34</td>\n",
       "      <td>facebook</td>\n",
       "      <td>mobile</td>\n",
       "      <td>apple</td>\n",
       "      <td>0</td>\n",
       "      <td>39.0</td>\n",
       "      <td>0</td>\n",
       "      <td>ads</td>\n",
       "      <td>2015-05-08</td>\n",
       "      <td>03:38:34</td>\n",
       "      <td>Buffalo</td>\n",
       "      <td>USA</td>\n",
       "      <td>42.89</td>\n",
       "      <td>-78.86</td>\n",
       "    </tr>\n",
       "    <tr>\n",
       "      <th>1</th>\n",
       "      <td>624057</td>\n",
       "      <td>2015-05-10 21:08:46</td>\n",
       "      <td>google</td>\n",
       "      <td>mobile</td>\n",
       "      <td>android</td>\n",
       "      <td>0</td>\n",
       "      <td>39.0</td>\n",
       "      <td>0</td>\n",
       "      <td>seo</td>\n",
       "      <td>2015-05-10</td>\n",
       "      <td>21:08:46</td>\n",
       "      <td>Lakeville</td>\n",
       "      <td>USA</td>\n",
       "      <td>44.68</td>\n",
       "      <td>-93.24</td>\n",
       "    </tr>\n",
       "    <tr>\n",
       "      <th>2</th>\n",
       "      <td>317970</td>\n",
       "      <td>2015-04-04 15:01:23</td>\n",
       "      <td>bing</td>\n",
       "      <td>mobile</td>\n",
       "      <td>android</td>\n",
       "      <td>0</td>\n",
       "      <td>39.0</td>\n",
       "      <td>0</td>\n",
       "      <td>ads</td>\n",
       "      <td>2015-04-04</td>\n",
       "      <td>15:01:23</td>\n",
       "      <td>Parma</td>\n",
       "      <td>USA</td>\n",
       "      <td>41.38</td>\n",
       "      <td>-81.73</td>\n",
       "    </tr>\n",
       "    <tr>\n",
       "      <th>3</th>\n",
       "      <td>685636</td>\n",
       "      <td>2015-05-07 07:26:01</td>\n",
       "      <td>direct_traffic</td>\n",
       "      <td>mobile</td>\n",
       "      <td>apple</td>\n",
       "      <td>1</td>\n",
       "      <td>59.0</td>\n",
       "      <td>0</td>\n",
       "      <td>direct_traffic</td>\n",
       "      <td>2015-05-07</td>\n",
       "      <td>07:26:01</td>\n",
       "      <td>Fayetteville</td>\n",
       "      <td>USA</td>\n",
       "      <td>35.07</td>\n",
       "      <td>-78.90</td>\n",
       "    </tr>\n",
       "    <tr>\n",
       "      <th>4</th>\n",
       "      <td>820854</td>\n",
       "      <td>2015-05-24 11:04:40</td>\n",
       "      <td>facebook</td>\n",
       "      <td>web</td>\n",
       "      <td>apple</td>\n",
       "      <td>0</td>\n",
       "      <td>39.0</td>\n",
       "      <td>0</td>\n",
       "      <td>ads</td>\n",
       "      <td>2015-05-24</td>\n",
       "      <td>11:04:40</td>\n",
       "      <td>Fishers</td>\n",
       "      <td>USA</td>\n",
       "      <td>39.95</td>\n",
       "      <td>-86.02</td>\n",
       "    </tr>\n",
       "  </tbody>\n",
       "</table>\n",
       "</div>"
      ],
      "text/plain": [
       "   user_id           timestamp          source  device       os  test  price  \\\n",
       "0   604839 2015-05-08 03:38:34        facebook  mobile    apple     0   39.0   \n",
       "1   624057 2015-05-10 21:08:46          google  mobile  android     0   39.0   \n",
       "2   317970 2015-04-04 15:01:23            bing  mobile  android     0   39.0   \n",
       "3   685636 2015-05-07 07:26:01  direct_traffic  mobile    apple     1   59.0   \n",
       "4   820854 2015-05-24 11:04:40        facebook     web    apple     0   39.0   \n",
       "\n",
       "   converted     source_type        date      time          city country  \\\n",
       "0          0             ads  2015-05-08  03:38:34       Buffalo     USA   \n",
       "1          0             seo  2015-05-10  21:08:46     Lakeville     USA   \n",
       "2          0             ads  2015-04-04  15:01:23         Parma     USA   \n",
       "3          0  direct_traffic  2015-05-07  07:26:01  Fayetteville     USA   \n",
       "4          0             ads  2015-05-24  11:04:40       Fishers     USA   \n",
       "\n",
       "     lat   long  \n",
       "0  42.89 -78.86  \n",
       "1  44.68 -93.24  \n",
       "2  41.38 -81.73  \n",
       "3  35.07 -78.90  \n",
       "4  39.95 -86.02  "
      ]
     },
     "execution_count": 87,
     "metadata": {},
     "output_type": "execute_result"
    }
   ],
   "source": [
    "df_clean.head()"
   ]
  },
  {
   "cell_type": "markdown",
   "id": "99c0ede3",
   "metadata": {},
   "source": [
    " ## Plot the running total for revenue over time grouped by test group\n"
   ]
  },
  {
   "cell_type": "code",
   "execution_count": 88,
   "id": "50446f67",
   "metadata": {
    "execution": {
     "iopub.execute_input": "2021-08-23T23:57:03.723541Z",
     "iopub.status.busy": "2021-08-23T23:57:03.723414Z",
     "iopub.status.idle": "2021-08-23T23:57:05.566979Z",
     "shell.execute_reply": "2021-08-23T23:57:05.566276Z",
     "shell.execute_reply.started": "2021-08-23T23:57:03.723528Z"
    }
   },
   "outputs": [],
   "source": [
    "# Filter only conversions\n",
    "# Remove conversion data without dates\n",
    "\n",
    "df_convert = df_clean.query(\"converted == 1 & date.notnull()\",\n",
    "                            engine='python').copy()"
   ]
  },
  {
   "cell_type": "code",
   "execution_count": 89,
   "id": "9641574a",
   "metadata": {
    "execution": {
     "iopub.execute_input": "2021-08-23T23:57:05.568309Z",
     "iopub.status.busy": "2021-08-23T23:57:05.568174Z",
     "iopub.status.idle": "2021-08-23T23:57:05.573456Z",
     "shell.execute_reply": "2021-08-23T23:57:05.572866Z",
     "shell.execute_reply.started": "2021-08-23T23:57:05.568295Z"
    }
   },
   "outputs": [],
   "source": [
    "# Extract week variable\n",
    "\n",
    "df_convert['week'] = df_convert['timestamp'].dt.isocalendar().week"
   ]
  },
  {
   "cell_type": "code",
   "execution_count": 90,
   "id": "837b35dd",
   "metadata": {
    "execution": {
     "iopub.execute_input": "2021-08-23T23:57:05.576816Z",
     "iopub.status.busy": "2021-08-23T23:57:05.576402Z",
     "iopub.status.idle": "2021-08-23T23:57:05.587668Z",
     "shell.execute_reply": "2021-08-23T23:57:05.587261Z",
     "shell.execute_reply.started": "2021-08-23T23:57:05.576769Z"
    }
   },
   "outputs": [],
   "source": [
    "# Calculate weekly totals\n",
    "\n",
    "df_sum_weekly = df_convert.groupby(['test','week'],\n",
    "                                dropna=False) \\\n",
    "                            ['price'].sum().reset_index()"
   ]
  },
  {
   "cell_type": "code",
   "execution_count": 91,
   "id": "a6872ee9",
   "metadata": {
    "execution": {
     "iopub.execute_input": "2021-08-23T23:57:05.588820Z",
     "iopub.status.busy": "2021-08-23T23:57:05.588687Z",
     "iopub.status.idle": "2021-08-23T23:57:05.597064Z",
     "shell.execute_reply": "2021-08-23T23:57:05.596111Z",
     "shell.execute_reply.started": "2021-08-23T23:57:05.588804Z"
    },
    "tags": []
   },
   "outputs": [],
   "source": [
    "# Calculate the daily totals\n",
    "\n",
    "df_sum_daily = df_convert.groupby(['test','date'],\n",
    "                                dropna=False) \\\n",
    "                            ['price'].sum().reset_index()\n",
    "#df_sum_daily[:10]"
   ]
  },
  {
   "cell_type": "code",
   "execution_count": 92,
   "id": "7dee4d12",
   "metadata": {
    "execution": {
     "iopub.execute_input": "2021-08-23T23:57:05.598631Z",
     "iopub.status.busy": "2021-08-23T23:57:05.598443Z",
     "iopub.status.idle": "2021-08-23T23:57:05.603285Z",
     "shell.execute_reply": "2021-08-23T23:57:05.602274Z",
     "shell.execute_reply.started": "2021-08-23T23:57:05.598614Z"
    }
   },
   "outputs": [],
   "source": [
    "# Order df by date\n",
    "\n",
    "df_sum_daily = df_sum_daily.sort_values(by=['date'], ascending=True)"
   ]
  },
  {
   "cell_type": "code",
   "execution_count": 93,
   "id": "4d6b0f58",
   "metadata": {
    "execution": {
     "iopub.execute_input": "2021-08-23T23:57:05.604808Z",
     "iopub.status.busy": "2021-08-23T23:57:05.604685Z",
     "iopub.status.idle": "2021-08-23T23:57:05.613426Z",
     "shell.execute_reply": "2021-08-23T23:57:05.612908Z",
     "shell.execute_reply.started": "2021-08-23T23:57:05.604794Z"
    }
   },
   "outputs": [],
   "source": [
    "# Order df by week\n",
    "\n",
    "df_sum_weekly = df_sum_weekly.sort_values(by=['week'], ascending=True)"
   ]
  },
  {
   "cell_type": "code",
   "execution_count": 94,
   "id": "f0e88d97",
   "metadata": {
    "execution": {
     "iopub.execute_input": "2021-08-23T23:57:05.614716Z",
     "iopub.status.busy": "2021-08-23T23:57:05.614588Z",
     "iopub.status.idle": "2021-08-23T23:57:05.619695Z",
     "shell.execute_reply": "2021-08-23T23:57:05.619120Z",
     "shell.execute_reply.started": "2021-08-23T23:57:05.614702Z"
    }
   },
   "outputs": [],
   "source": [
    "# Calculate the daily running total of revenue grouped by pricing test \n",
    "\n",
    "df_sum_daily['rev_cumsum'] = df_sum_daily.groupby('test')['price'].transform(pd.Series.cumsum)"
   ]
  },
  {
   "cell_type": "code",
   "execution_count": 95,
   "id": "0c59ceb8",
   "metadata": {
    "execution": {
     "iopub.execute_input": "2021-08-23T23:57:05.620628Z",
     "iopub.status.busy": "2021-08-23T23:57:05.620498Z",
     "iopub.status.idle": "2021-08-23T23:57:05.625055Z",
     "shell.execute_reply": "2021-08-23T23:57:05.624439Z",
     "shell.execute_reply.started": "2021-08-23T23:57:05.620614Z"
    }
   },
   "outputs": [],
   "source": [
    "# Calculate the weekly running total of revenue grouped by pricing test \n",
    "\n",
    "df_sum_weekly['rev_cumsum'] = df_sum_weekly.groupby('test')['price'].transform(pd.Series.cumsum)"
   ]
  },
  {
   "cell_type": "code",
   "execution_count": 96,
   "id": "b512dc42",
   "metadata": {
    "execution": {
     "iopub.execute_input": "2021-08-23T23:57:05.625818Z",
     "iopub.status.busy": "2021-08-23T23:57:05.625714Z",
     "iopub.status.idle": "2021-08-23T23:57:05.628604Z",
     "shell.execute_reply": "2021-08-23T23:57:05.628240Z",
     "shell.execute_reply.started": "2021-08-23T23:57:05.625806Z"
    }
   },
   "outputs": [],
   "source": [
    "# Scale revenue totals by 1000 for interpretation\n",
    "\n",
    "df_sum_daily['rev_cumsum_scale'] = df_sum_daily['rev_cumsum']/1000"
   ]
  },
  {
   "cell_type": "code",
   "execution_count": 97,
   "id": "c7f774cb",
   "metadata": {
    "execution": {
     "iopub.execute_input": "2021-08-23T23:57:05.629492Z",
     "iopub.status.busy": "2021-08-23T23:57:05.629390Z",
     "iopub.status.idle": "2021-08-23T23:57:05.635181Z",
     "shell.execute_reply": "2021-08-23T23:57:05.634509Z",
     "shell.execute_reply.started": "2021-08-23T23:57:05.629478Z"
    }
   },
   "outputs": [],
   "source": [
    "# Scale revenue totals by 1000 for interpretation\n",
    "\n",
    "df_sum_weekly['rev_cumsum_scale'] = df_sum_weekly['rev_cumsum']/1000"
   ]
  },
  {
   "cell_type": "code",
   "execution_count": 98,
   "id": "92265ae5",
   "metadata": {
    "execution": {
     "iopub.execute_input": "2021-08-23T23:57:05.636368Z",
     "iopub.status.busy": "2021-08-23T23:57:05.636251Z",
     "iopub.status.idle": "2021-08-23T23:57:06.162056Z",
     "shell.execute_reply": "2021-08-23T23:57:06.161714Z",
     "shell.execute_reply.started": "2021-08-23T23:57:05.636355Z"
    },
    "tags": []
   },
   "outputs": [
    {
     "data": {
      "image/png": "[encoded data removed]",
      "text/plain": [
       "<Figure size 1152x648 with 1 Axes>"
      ]
     },
     "metadata": {
      "image/png": {
       "height": 549,
       "width": 966
      }
     },
     "output_type": "display_data"
    }
   ],
   "source": [
    "# Plot relationship of total revenue over time for each group\n",
    "\n",
    "# p = sns.lineplot(data=df_sum_weekly, x=\"week\", y=\"rev_cumsum_scale\",\n",
    "#                  hue='test', linewidth=5)\n",
    "p = sns.lineplot(data=df_sum_daily, x=\"date\", y=\"rev_cumsum_scale\",\n",
    "                 hue='test', linewidth=5)\n",
    "plt.xlabel('Date (Week)')\n",
    "plt.ylabel('Cumulative Revenue ($1000)')\n",
    "plt.legend(loc='upper left', frameon=False, title='Pricing Group',\n",
    "           labels=['$39', '$59'])\n",
    "\n",
    "\n",
    "    # Define the date format\n",
    "date_form = DateFormatter(\"%m-%d\")\n",
    "p.xaxis.set_major_formatter(date_form)\n",
    "\n",
    "# Ensure a major tick for each week using (interval=1) \n",
    "p.xaxis.set_major_locator(mdates.WeekdayLocator(interval=1))"
   ]
  },
  {
   "cell_type": "markdown",
   "id": "d0e48d15",
   "metadata": {},
   "source": [
    "- So the absolute revenue gains from the $39 group increase over time, despite being cheaper, due to a higher conversion rate\n",
    "- There also appear to be conversion spikes on the weekend"
   ]
  },
  {
   "cell_type": "code",
   "execution_count": null,
   "id": "f621061d",
   "metadata": {},
   "outputs": [],
   "source": []
  }
 ],
 "metadata": {
  "kernelspec": {
   "display_name": "Python [conda env:data_chall] *",
   "language": "python",
   "name": "conda-env-data_chall-py"
  },
  "language_info": {
   "codemirror_mode": {
    "name": "ipython",
    "version": 3
   },
   "file_extension": ".py",
   "mimetype": "text/x-python",
   "name": "python",
   "nbconvert_exporter": "python",
   "pygments_lexer": "ipython3",
   "version": "3.8.8"
  }
 },
 "nbformat": 4,
 "nbformat_minor": 5
}
